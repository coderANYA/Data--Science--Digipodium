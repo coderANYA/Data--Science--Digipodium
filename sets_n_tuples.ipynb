{
 "cells": [
  {
   "cell_type": "code",
   "execution_count": 1,
   "metadata": {},
   "outputs": [
    {
     "name": "stdout",
     "output_type": "stream",
     "text": [
      "(1, 2, 3)\n",
      "<class 'tuple'>\n"
     ]
    }
   ],
   "source": [
    "x = (1,2,3)\n",
    "print(x)\n",
    "print(type(x))"
   ]
  },
  {
   "cell_type": "code",
   "execution_count": 6,
   "metadata": {},
   "outputs": [],
   "source": [
    "a = 12,13,50"
   ]
  },
  {
   "cell_type": "code",
   "execution_count": 3,
   "metadata": {},
   "outputs": [
    {
     "name": "stdout",
     "output_type": "stream",
     "text": [
      "(13,)\n",
      "<class 'tuple'>\n"
     ]
    }
   ],
   "source": [
    "#single element tuple\n",
    "b = (13,)\n",
    "print(b)\n",
    "print(type(b))"
   ]
  },
  {
   "cell_type": "code",
   "execution_count": 7,
   "metadata": {},
   "outputs": [
    {
     "name": "stdout",
     "output_type": "stream",
     "text": [
      "12 13 50\n"
     ]
    }
   ],
   "source": [
    "# tuple unpacking\n",
    "x1, x2, x3 = a      # a has 3 elements\n",
    "print(x1,x2,x3)"
   ]
  },
  {
   "cell_type": "code",
   "execution_count": 8,
   "metadata": {},
   "outputs": [
    {
     "name": "stdout",
     "output_type": "stream",
     "text": [
      "1 3 [4, 6, 7, 12, 14, 16, 17]\n"
     ]
    }
   ],
   "source": [
    "a = (1,3,4,6,7,12,14,16,17)\n",
    "a1, a2, *a3 = a   # a3 will get the remaining elements as a list\n",
    "print(a1,a2,a3)"
   ]
  },
  {
   "cell_type": "code",
   "execution_count": 9,
   "metadata": {},
   "outputs": [
    {
     "data": {
      "text/plain": [
       "(7, 12, 14, 16, 17)"
      ]
     },
     "execution_count": 9,
     "metadata": {},
     "output_type": "execute_result"
    }
   ],
   "source": [
    "a[-5:]   #slicing\n"
   ]
  },
  {
   "cell_type": "code",
   "execution_count": 10,
   "metadata": {},
   "outputs": [
    {
     "name": "stdout",
     "output_type": "stream",
     "text": [
      "1\n",
      "3\n",
      "4\n",
      "6\n",
      "7\n",
      "12\n",
      "14\n",
      "16\n",
      "17\n"
     ]
    }
   ],
   "source": [
    "for i in a:\n",
    "    print(i)"
   ]
  },
  {
   "cell_type": "code",
   "execution_count": 12,
   "metadata": {},
   "outputs": [
    {
     "name": "stdout",
     "output_type": "stream",
     "text": [
      "4\n",
      "4\n",
      "0\n"
     ]
    }
   ],
   "source": [
    "x = (1,2,3,1,2,3,1,2,3,1,2,3)\n",
    "print(x.count(1))\n",
    "print(x.count(2))\n",
    "print(x.count(5))\n",
    "print(x.index(3))     # 3 is the value to search\n",
    "print(x.index(3,5))   # 3 is the value to search & 5 is the starting index"
   ]
  },
  {
   "cell_type": "code",
   "execution_count": 13,
   "metadata": {},
   "outputs": [
    {
     "name": "stdout",
     "output_type": "stream",
     "text": [
      "(1, 2, 3)\n",
      "[1, 2, 3]\n"
     ]
    }
   ],
   "source": [
    "a = [1,2,3]\n",
    "at = tuple(a)    #converting list to tuple\n",
    "al = list(at)    #converting tuple to list\n",
    "print(at)\n",
    "print(al)\n",
    "\n"
   ]
  },
  {
   "cell_type": "code",
   "execution_count": 14,
   "metadata": {},
   "outputs": [
    {
     "name": "stdout",
     "output_type": "stream",
     "text": [
      "{1, 2, 3}\n",
      "<class 'set'>\n"
     ]
    }
   ],
   "source": [
    "s = {1,2,3,1,2,3,1,2,3}\n",
    "print(s)\n",
    "print(type(s))"
   ]
  },
  {
   "cell_type": "code",
   "execution_count": 15,
   "metadata": {},
   "outputs": [
    {
     "name": "stdout",
     "output_type": "stream",
     "text": [
      "set()\n",
      "<class 'set'>\n"
     ]
    }
   ],
   "source": [
    "s1 = set()  #empty set\n",
    "print(s1)\n",
    "print(type(s1))"
   ]
  },
  {
   "cell_type": "code",
   "execution_count": 16,
   "metadata": {},
   "outputs": [
    {
     "name": "stdout",
     "output_type": "stream",
     "text": [
      "{'Hello', 3, 4, 'all'}\n"
     ]
    }
   ],
   "source": [
    "s1.add(3)\n",
    "s1.add(4)\n",
    "s1.add(\"Hello\")\n",
    "s1.add(\"all\")\n",
    "s1.add(3)\n",
    "print(s1)"
   ]
  },
  {
   "cell_type": "code",
   "execution_count": 17,
   "metadata": {},
   "outputs": [
    {
     "name": "stdout",
     "output_type": "stream",
     "text": [
      "{'Hello', 3, 4, 'all'}\n"
     ]
    }
   ],
   "source": [
    "s1.discard(89)\n",
    "print(s1)"
   ]
  },
  {
   "cell_type": "code",
   "execution_count": 18,
   "metadata": {},
   "outputs": [
    {
     "name": "stdout",
     "output_type": "stream",
     "text": [
      "Hello\n",
      "3\n",
      "4\n",
      "all\n"
     ]
    }
   ],
   "source": [
    "for i in s1:\n",
    "    print(i)"
   ]
  },
  {
   "cell_type": "code",
   "execution_count": 19,
   "metadata": {},
   "outputs": [],
   "source": [
    "# set operations\n",
    "group1 = {'apple','banana','mango','grapes','orange','watermelon','pineapple'}\n",
    "group2 = {'apple','grapes','mango','pineapple','watermelon','kiwi','papaya','cherry'}"
   ]
  },
  {
   "cell_type": "code",
   "execution_count": 20,
   "metadata": {},
   "outputs": [
    {
     "name": "stdout",
     "output_type": "stream",
     "text": [
      "{'banana', 'grapes', 'papaya', 'watermelon', 'cherry', 'pineapple', 'apple', 'kiwi', 'orange', 'mango'}\n",
      "{'banana', 'grapes', 'papaya', 'watermelon', 'cherry', 'pineapple', 'apple', 'kiwi', 'orange', 'mango'}\n"
     ]
    }
   ],
   "source": [
    "#union\n",
    "print(group1 | group2)       #all elements from both the sets\n",
    "print(group1.union(group2))"
   ]
  },
  {
   "cell_type": "code",
   "execution_count": 21,
   "metadata": {},
   "outputs": [
    {
     "name": "stdout",
     "output_type": "stream",
     "text": [
      "{'grapes', 'watermelon', 'pineapple', 'apple', 'mango'}\n",
      "{'grapes', 'watermelon', 'pineapple', 'apple', 'mango'}\n"
     ]
    }
   ],
   "source": [
    "#intersection\n",
    "print(group1 & group2)       #common elements from both the sets\n",
    "print(group1.intersection(group2))"
   ]
  },
  {
   "cell_type": "code",
   "execution_count": 22,
   "metadata": {},
   "outputs": [
    {
     "name": "stdout",
     "output_type": "stream",
     "text": [
      "{'banana', 'orange'}\n",
      "{'papaya', 'cherry', 'kiwi'}\n",
      "{'papaya', 'cherry', 'kiwi'}\n"
     ]
    }
   ],
   "source": [
    "#difference\n",
    "print(group1 - group2)  #elements in group1 but not in group2\n",
    "print(group2 - group1)  #elements in group2 but not in group1\n",
    "print(group2.difference(group1))"
   ]
  },
  {
   "cell_type": "code",
   "execution_count": 23,
   "metadata": {},
   "outputs": [
    {
     "name": "stdout",
     "output_type": "stream",
     "text": [
      "{'banana', 'papaya', 'cherry', 'kiwi', 'orange'}\n",
      "{'banana', 'papaya', 'cherry', 'kiwi', 'orange'}\n"
     ]
    }
   ],
   "source": [
    "# symmetric difference\n",
    "print(group1 ^ group2)     #elements in group1 or group2 but not in both\n",
    "print(group1.symmetric_difference(group2))"
   ]
  },
  {
   "attachments": {},
   "cell_type": "markdown",
   "metadata": {},
   "source": [
    "# task\n",
    "- create a list called reports that will hold report of 7 students\n",
    "- each student will have a name & marks in 3 subjects\n",
    "- use for loop to display the report of each student"
   ]
  },
  {
   "cell_type": "code",
   "execution_count": 24,
   "metadata": {},
   "outputs": [
    {
     "name": "stdout",
     "output_type": "stream",
     "text": [
      "Rohan\n",
      "Maths 90\n",
      "Science 95\n",
      "English 89\n"
     ]
    }
   ],
   "source": [
    "reports =  [\n",
    "    ['Rohan',[\n",
    "        [\"Maths\",90],\n",
    "        ['Science',95],\n",
    "        ['English',89]\n",
    "    ]]\n",
    "]\n",
    "for student in reports:\n",
    "    for detail in student:\n",
    "        if isinstance(detail,str):\n",
    "            print(detail)\n",
    "        if isinstance(detail,list):\n",
    "            for subject in detail:\n",
    "                print(subject[0],subject[1])"
   ]
  },
  {
   "cell_type": "code",
   "execution_count": null,
   "metadata": {},
   "outputs": [],
   "source": []
  }
 ],
 "metadata": {
  "kernelspec": {
   "display_name": "base",
   "language": "python",
   "name": "python3"
  },
  "language_info": {
   "codemirror_mode": {
    "name": "ipython",
    "version": 3
   },
   "file_extension": ".py",
   "mimetype": "text/x-python",
   "name": "python",
   "nbconvert_exporter": "python",
   "pygments_lexer": "ipython3",
   "version": "3.10.10"
  },
  "orig_nbformat": 4
 },
 "nbformat": 4,
 "nbformat_minor": 2
}
