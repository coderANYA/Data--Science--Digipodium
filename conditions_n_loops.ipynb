{
 "cells": [
  {
   "cell_type": "code",
   "execution_count": 1,
   "metadata": {},
   "outputs": [],
   "source": [
    "x = 10\n",
    "y = 3"
   ]
  },
  {
   "cell_type": "code",
   "execution_count": 2,
   "metadata": {},
   "outputs": [
    {
     "name": "stdout",
     "output_type": "stream",
     "text": [
      "x is greater  than y\n"
     ]
    }
   ],
   "source": [
    "if x > y:\n",
    "    print(\"x is greater  than y\")"
   ]
  },
  {
   "cell_type": "code",
   "execution_count": 3,
   "metadata": {},
   "outputs": [
    {
     "name": "stdout",
     "output_type": "stream",
     "text": [
      "x is greater than y & x is positive\n"
     ]
    }
   ],
   "source": [
    "if x > y and x  > 0:\n",
    "    print(\"x is greater than y & x is positive\")"
   ]
  },
  {
   "cell_type": "code",
   "execution_count": 4,
   "metadata": {},
   "outputs": [
    {
     "name": "stdout",
     "output_type": "stream",
     "text": [
      "x is greater than 5 & y is greater than 3\n"
     ]
    }
   ],
   "source": [
    "if x > 5:\n",
    "    if y > 1:\n",
    "        print(\"x is greater than 5 & y is greater than 3\")\n"
   ]
  },
  {
   "cell_type": "code",
   "execution_count": 5,
   "metadata": {},
   "outputs": [
    {
     "name": "stdout",
     "output_type": "stream",
     "text": [
      "x is greater than 5\n"
     ]
    }
   ],
   "source": [
    "if x > 5 :\n",
    "    print(\"x is greater than 5\")\n",
    "else:\n",
    "    print(\"x is  not  greater  than 5\")"
   ]
  },
  {
   "cell_type": "code",
   "execution_count": 6,
   "metadata": {},
   "outputs": [
    {
     "name": "stdout",
     "output_type": "stream",
     "text": [
      "x & y are greater than 5\n"
     ]
    }
   ],
   "source": [
    "if x > 5:\n",
    "    if y > 1:\n",
    "        print(\"x & y are greater than 5\")\n",
    "    else:\n",
    "        print(\"x is greater than 5 but y is not greater than 5\")\n",
    "else:\n",
    "    print(\"x is not greater than 5\")\n"
   ]
  },
  {
   "cell_type": "code",
   "execution_count": 7,
   "metadata": {},
   "outputs": [
    {
     "name": "stdout",
     "output_type": "stream",
     "text": [
      "z is greater than x and y\n"
     ]
    }
   ],
   "source": [
    "x,y,z = 10,3, 15\n",
    "if (x > y and x > z):\n",
    "    print(\"x is greater than y and z\")\n",
    "elif y > x and y > z:\n",
    "    print(\"y is greater than x and z\")\n",
    "elif z > x and z > y:\n",
    "    print(\"z is greater than x and y\")\n",
    "else:\n",
    "    print(\"x, y and z are equal\")            \n",
    "   \n"
   ]
  },
  {
   "cell_type": "code",
   "execution_count": null,
   "metadata": {},
   "outputs": [],
   "source": [
    " "
   ]
  }
 ],
 "metadata": {
  "kernelspec": {
   "display_name": "base",
   "language": "python",
   "name": "python3"
  },
  "language_info": {
   "codemirror_mode": {
    "name": "ipython",
    "version": 3
   },
   "file_extension": ".py",
   "mimetype": "text/x-python",
   "name": "python",
   "nbconvert_exporter": "python",
   "pygments_lexer": "ipython3",
   "version": "3.10.10"
  },
  "orig_nbformat": 4
 },
 "nbformat": 4,
 "nbformat_minor": 2
}
