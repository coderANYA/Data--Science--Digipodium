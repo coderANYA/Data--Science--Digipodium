{
 "cells": [
  {
   "cell_type": "code",
   "execution_count": 1,
   "metadata": {},
   "outputs": [
    {
     "name": "stdout",
     "output_type": "stream",
     "text": [
      "Ananya loves TMKOC\n"
     ]
    }
   ],
   "source": [
    "#1 Create a string and print it.\n",
    "a = \"Ananya loves TMKOC\"\n",
    "print(a)"
   ]
  },
  {
   "cell_type": "code",
   "execution_count": 2,
   "metadata": {},
   "outputs": [
    {
     "name": "stdout",
     "output_type": "stream",
     "text": [
      "18\n"
     ]
    }
   ],
   "source": [
    "#2 Take a string input and print it's length.\n",
    "str = input(\"Enter a string: \")\n",
    "print(len(str))"
   ]
  },
  {
   "cell_type": "code",
   "execution_count": 7,
   "metadata": {},
   "outputs": [
    {
     "name": "stdout",
     "output_type": "stream",
     "text": [
      "The Length of String is 15\n",
      "great\n"
     ]
    }
   ],
   "source": [
    "#3 Print the last word of the string 'Python is great' using slices.\n",
    "str = \"Python is great\"\n",
    "print(\"The Length of String is\",len(str))\n",
    "print(str[-5:])\n"
   ]
  },
  {
   "cell_type": "code",
   "execution_count": 8,
   "metadata": {},
   "outputs": [
    {
     "name": "stdout",
     "output_type": "stream",
     "text": [
      "P\n",
      "y\n",
      "t\n",
      "h\n",
      "o\n",
      "n\n",
      " \n",
      "i\n",
      "s\n",
      " \n",
      "e\n",
      "v\n",
      "e\n",
      "r\n",
      "y\n",
      "w\n",
      "h\n",
      "e\n",
      "r\n",
      "e\n"
     ]
    }
   ],
   "source": [
    "#4 Print the each word in different line of string 'Python is everywhere'.\n",
    "str = \"Python is everywhere\"\n",
    "for character in str:\n",
    "    print(character)"
   ]
  },
  {
   "cell_type": "code",
   "execution_count": 9,
   "metadata": {},
   "outputs": [
    {
     "name": "stdout",
     "output_type": "stream",
     "text": [
      "!dlroW olleH\n"
     ]
    }
   ],
   "source": [
    "#5 Print the string 'Hello World!' in reverse.\n",
    "str = \"Hello World!\"\n",
    "print(str[ : : -1])"
   ]
  },
  {
   "cell_type": "code",
   "execution_count": 10,
   "metadata": {},
   "outputs": [
    {
     "name": "stdout",
     "output_type": "stream",
     "text": [
      "HOW ARE YOU?\n"
     ]
    }
   ],
   "source": [
    "#6 Convert the string 'How are you?' in uppercase.\n",
    "str = \"How are you?\"\n",
    "print(str.upper())"
   ]
  },
  {
   "cell_type": "code",
   "execution_count": 11,
   "metadata": {},
   "outputs": [
    {
     "name": "stdout",
     "output_type": "stream",
     "text": [
      "how is it going?\n"
     ]
    }
   ],
   "source": [
    "#7 Convert the string 'How Is It Going?' in lowercase.\n",
    "str = \"How Is It Going?\"\n",
    "print(str.lower())"
   ]
  },
  {
   "cell_type": "code",
   "execution_count": 17,
   "metadata": {},
   "outputs": [
    {
     "data": {
      "text/plain": [
       "'Python is easy to learn'"
      ]
     },
     "execution_count": 17,
     "metadata": {},
     "output_type": "execute_result"
    }
   ],
   "source": [
    "#8 Join the following list by spaces( ) and print the result.\n",
    "words = ['Python', 'is', 'easy', 'to', 'learn']\n",
    "\" \".join(words)"
   ]
  },
  {
   "cell_type": "code",
   "execution_count": 18,
   "metadata": {},
   "outputs": [
    {
     "name": "stdout",
     "output_type": "stream",
     "text": [
      "Early to bed & early to rise,\n",
      "makes a man healthy,\n",
      "wealthy & wise\n"
     ]
    }
   ],
   "source": [
    "#9 Print a multiline string using a single print\n",
    "poem = \"\"\"Early to bed & early to rise,\n",
    "makes a man healthy,\n",
    "wealthy & wise\"\"\"\n",
    "print(poem)"
   ]
  },
  {
   "cell_type": "code",
   "execution_count": 21,
   "metadata": {},
   "outputs": [
    {
     "name": "stdout",
     "output_type": "stream",
     "text": [
      "to move to newline '\\n' is used\n"
     ]
    }
   ],
   "source": [
    "#10 Print this string 'to move to newline '\\n' is used';(results should look exactly like the provided string)\n",
    "print(\"to move to newline '\\\\n' is used\")"
   ]
  },
  {
   "cell_type": "code",
   "execution_count": 22,
   "metadata": {},
   "outputs": [
    {
     "name": "stdout",
     "output_type": "stream",
     "text": [
      "The variable is 15\n"
     ]
    }
   ],
   "source": [
    "#11 Print a variable with some text using a single print function, output should look like : The variable is 15\n",
    "str = \"The variable is 15\"\n",
    "print(str)"
   ]
  },
  {
   "cell_type": "code",
   "execution_count": 24,
   "metadata": {},
   "outputs": [
    {
     "name": "stdout",
     "output_type": "stream",
     "text": [
      "Python is great\n"
     ]
    }
   ],
   "source": [
    "#12 Concatenate the following strings and print the result\n",
    "# s1 = 'python '\n",
    "# s2 = 'is '\n",
    "# s3 = 'great.'\n",
    "s1 = 'Python'\n",
    "s2 = 'is'\n",
    "s3 = 'great'\n",
    "print(s1 ,s2 , s3)\n"
   ]
  },
  {
   "cell_type": "code",
   "execution_count": 25,
   "metadata": {},
   "outputs": [
    {
     "name": "stdout",
     "output_type": "stream",
     "text": [
      "####################\n"
     ]
    }
   ],
   "source": [
    "#13 Print '#' 20 times without using a loop\n",
    "print(\"#\" * 20)\n"
   ]
  },
  {
   "cell_type": "code",
   "execution_count": 27,
   "metadata": {},
   "outputs": [
    {
     "name": "stdout",
     "output_type": "stream",
     "text": [
      "1.\n",
      "2.\n",
      "3.\n",
      "4.\n",
      "5.\n",
      "6.\n",
      "7.\n",
      "8.\n",
      "9.\n"
     ]
    }
   ],
   "source": [
    "#14 Print numbers from 1 to 9, each on a seperate line, followed by a dot, output should look like the following-\n",
    "# 1.\n",
    "# 2.\n",
    "# 3.\n",
    "# ..........\n",
    "for k in range (1,10):\n",
    "    print(f'{k}.')"
   ]
  },
  {
   "cell_type": "code",
   "execution_count": 28,
   "metadata": {},
   "outputs": [
    {
     "name": "stdout",
     "output_type": "stream",
     "text": [
      "M\n",
      "a\n",
      "n\n",
      "g\n",
      "o\n",
      " \n",
      "i\n",
      "s\n",
      " \n",
      "m\n",
      "y\n",
      " \n",
      "f\n",
      "a\n",
      "v\n",
      "o\n",
      "u\n",
      "r\n",
      "i\n",
      "t\n",
      "e\n",
      " \n",
      "f\n",
      "r\n",
      "u\n",
      "i\n",
      "t\n"
     ]
    }
   ],
   "source": [
    "#15 Ask user to input a sentence and print each word on a different line.\n",
    "str = input(\"Enter a string: \")\n",
    "for character in str:\n",
    "    print(character)"
   ]
  },
  {
   "cell_type": "code",
   "execution_count": 29,
   "metadata": {},
   "outputs": [
    {
     "name": "stdout",
     "output_type": "stream",
     "text": [
      "True\n"
     ]
    }
   ],
   "source": [
    "#16 Ask user to input a string and check if the string ends with '?'\n",
    "str = \"Howz you?\"\n",
    "print(str.endswith(\"?\"))"
   ]
  },
  {
   "cell_type": "code",
   "execution_count": 31,
   "metadata": {},
   "outputs": [
    {
     "name": "stdout",
     "output_type": "stream",
     "text": [
      "easy peasy lemon squeezy\n",
      "5\n"
     ]
    }
   ],
   "source": [
    "#17 Ask user to input a string and print how many times 'e' appeared in the string\n",
    "str = input(\"Enter a string: \")\n",
    "print(str)\n",
    "print(str.count('e'))\n"
   ]
  },
  {
   "cell_type": "code",
   "execution_count": 36,
   "metadata": {},
   "outputs": [
    {
     "name": "stdout",
     "output_type": "stream",
     "text": [
      "The type of input is <class 'int'>\n"
     ]
    }
   ],
   "source": [
    "#18 Check if the user input is a number.\n",
    "a = int(input(\"Enter your input: \"))\n",
    "print(\"The type of input is\",type(a))"
   ]
  },
  {
   "cell_type": "code",
   "execution_count": 40,
   "metadata": {},
   "outputs": [
    {
     "name": "stdout",
     "output_type": "stream",
     "text": [
      "this is not a good string\n"
     ]
    }
   ],
   "source": [
    "#19 Remove the extra spaces in beginning and in the end of the following string-\n",
    "text = '   this is not a good string           '\n",
    "print(text.strip())\n"
   ]
  },
  {
   "cell_type": "code",
   "execution_count": 2,
   "metadata": {},
   "outputs": [
    {
     "name": "stdout",
     "output_type": "stream",
     "text": [
      "Ananya is a PG Student\n",
      "True\n"
     ]
    }
   ],
   "source": [
    "#20 Ask user to input string, print 'found' if any of the character is upper case.\n",
    "str = input(\"Enter a string: \")\n",
    "print(str)\n",
    "\n",
    "check = any(character.isupper() for character in str)\n",
    "print(check)"
   ]
  },
  {
   "cell_type": "code",
   "execution_count": 3,
   "metadata": {},
   "outputs": [
    {
     "name": "stdout",
     "output_type": "stream",
     "text": [
      "<class 'list'>\n",
      "['Joe', 'David', 'Mark', 'Tom', 'Chris', 'Robert']\n"
     ]
    }
   ],
   "source": [
    "#21 Extract names from the following string and store them in a list.\n",
    "names = 'Joe, David, Mark, Tom, Chris, Robert'\n",
    "myList = ['Joe','David','Mark','Tom','Chris','Robert']\n",
    "print(type(myList))\n",
    "print(myList)"
   ]
  },
  {
   "cell_type": "code",
   "execution_count": 4,
   "metadata": {},
   "outputs": [
    {
     "name": "stdout",
     "output_type": "stream",
     "text": [
      "thisaye isaye someaye textaye\n"
     ]
    }
   ],
   "source": [
    "#22 In the following string, add 'aye' in the end of every word and print the results.\n",
    "text = 'this is some text'\n",
    "text2 = 'thisaye isaye someaye textaye'\n",
    "print(text2)"
   ]
  },
  {
   "cell_type": "code",
   "execution_count": 5,
   "metadata": {},
   "outputs": [
    {
     "name": "stdout",
     "output_type": "stream",
     "text": [
      "Ananya loves Cricket\n",
      "-1\n"
     ]
    }
   ],
   "source": [
    "#23 Ask user to enter a string and check if the string contains 'fyi'\n",
    "str = input(\"Enter a string: \")\n",
    "print(str)\n",
    "print(str.find(\"fyi\"))"
   ]
  },
  {
   "cell_type": "code",
   "execution_count": 7,
   "metadata": {},
   "outputs": [
    {
     "name": "stdout",
     "output_type": "stream",
     "text": [
      "String before conversion: %p34@y!*-*!t68h#&on404\n",
      "String after conversion:  p y t h o n\n"
     ]
    }
   ],
   "source": [
    "#24 Remove all the special characters and numbers from the following string\n",
    "text = '%p34@y!*-*!t68h#&on404'\n",
    "print('String before conversion:',text)\n",
    "normal_string = \" \".join(ch for ch in text if ch.isalpha())\n",
    "print(\"String after conversion: \",normal_string)\n"
   ]
  },
  {
   "cell_type": "code",
   "execution_count": 12,
   "metadata": {},
   "outputs": [
    {
     "name": "stdout",
     "output_type": "stream",
     "text": [
      "123\n",
      "Thisisaparagraphwhichiswrittenjustforthepurposeofprovidingcontenttolettheaveragewordlengthbecalculated\n",
      "102\n",
      "The average word length of the paragraph is 51\n"
     ]
    }
   ],
   "source": [
    "#25 Calculate the average word length of the following paragraph.\n",
    "str = 'This is a paragraph which is written just for the purpose of providing content to let the average word length be calculated'\n",
    "print(len(str))\n",
    "new_string = str.replace(\" \",\"\")\n",
    "print(new_string)\n",
    "print(len(new_string))\n",
    "average = int(len(new_string)/2)\n",
    "print(f'The average word length of the paragraph is {average}')\n"
   ]
  },
  {
   "cell_type": "code",
   "execution_count": null,
   "metadata": {},
   "outputs": [],
   "source": []
  }
 ],
 "metadata": {
  "kernelspec": {
   "display_name": "base",
   "language": "python",
   "name": "python3"
  },
  "language_info": {
   "codemirror_mode": {
    "name": "ipython",
    "version": 3
   },
   "file_extension": ".py",
   "mimetype": "text/x-python",
   "name": "python",
   "nbconvert_exporter": "python",
   "pygments_lexer": "ipython3",
   "version": "3.10.10"
  },
  "orig_nbformat": 4
 },
 "nbformat": 4,
 "nbformat_minor": 2
}
