{
 "cells": [
  {
   "cell_type": "code",
   "execution_count": 1,
   "metadata": {},
   "outputs": [],
   "source": [
    "fruits = {\n",
    "    \"apple\" : 2,\n",
    "    \"banana\" : 3,\n",
    "    \"orange \" : 5\n",
    "}"
   ]
  },
  {
   "cell_type": "code",
   "execution_count": 2,
   "metadata": {},
   "outputs": [],
   "source": [
    "grocery = {\n",
    "    'fruits' : [\"apple\",\"banana\",\"orange\",'grape'],\n",
    "    'vegetables' : ['carrot','lettuce','onion'],\n",
    "    'dairy': ['milk','cheese','yogurt'],\n",
    "    'meat': None\n",
    "}"
   ]
  },
  {
   "cell_type": "code",
   "execution_count": 3,
   "metadata": {},
   "outputs": [],
   "source": [
    "reports = {\n",
    "    'rajesh' : {\n",
    "        \"English\" : 90,\n",
    "        \"Math\": 80,\n",
    "        \"Science\" : 70\n",
    "    },\n",
    "    'suresh': {\n",
    "        \"English\" : 80,\n",
    "        \"Math\": 70,\n",
    "        \"Science\": 80\n",
    "    }\n",
    "}"
   ]
  },
  {
   "cell_type": "code",
   "execution_count": 4,
   "metadata": {},
   "outputs": [
    {
     "name": "stdout",
     "output_type": "stream",
     "text": [
      "{'apple': 2, 'banana': 3, 'orange ': 5}\n",
      "{'fruits': ['apple', 'banana', 'orange', 'grape'], 'vegetables': ['carrot', 'lettuce', 'onion'], 'dairy': ['milk', 'cheese', 'yogurt'], 'meat': None}\n",
      "{'rajesh': {'English': 90, 'Math': 80, 'Science': 70}, 'suresh': {'English': 80, 'Math': 70, 'Science': 80}}\n"
     ]
    }
   ],
   "source": [
    "print(fruits)\n",
    "print(grocery)\n",
    "print(reports)\n"
   ]
  },
  {
   "cell_type": "code",
   "execution_count": 6,
   "metadata": {},
   "outputs": [],
   "source": [
    "from pprint import pp"
   ]
  },
  {
   "cell_type": "code",
   "execution_count": 7,
   "metadata": {},
   "outputs": [
    {
     "name": "stdout",
     "output_type": "stream",
     "text": [
      "{'apple': 2, 'banana': 3, 'orange ': 5}\n",
      "{'fruits': ['apple', 'banana', 'orange', 'grape'],\n",
      " 'vegetables': ['carrot', 'lettuce', 'onion'],\n",
      " 'dairy': ['milk', 'cheese', 'yogurt'],\n",
      " 'meat': None}\n",
      "{'rajesh': {'English': 90, 'Math': 80, 'Science': 70},\n",
      " 'suresh': {'English': 80, 'Math': 70, 'Science': 80}}\n"
     ]
    }
   ],
   "source": [
    "pp(fruits)\n",
    "pp(grocery)\n",
    "pp(reports)"
   ]
  },
  {
   "cell_type": "code",
   "execution_count": 8,
   "metadata": {},
   "outputs": [
    {
     "data": {
      "text/plain": [
       "2"
      ]
     },
     "execution_count": 8,
     "metadata": {},
     "output_type": "execute_result"
    }
   ],
   "source": [
    "fruits['apple']  #retrieve value from dictionary"
   ]
  },
  {
   "cell_type": "code",
   "execution_count": 10,
   "metadata": {},
   "outputs": [
    {
     "name": "stdout",
     "output_type": "stream",
     "text": [
      "{'apple': 10, 'banana': 3, 'orange ': 5}\n"
     ]
    }
   ],
   "source": [
    "fruits['apple'] = 10 #update value in dictionary\n",
    "pp(fruits)"
   ]
  },
  {
   "cell_type": "code",
   "execution_count": 11,
   "metadata": {},
   "outputs": [
    {
     "name": "stdout",
     "output_type": "stream",
     "text": [
      "{'apple': 10, 'banana': 3, 'orange ': 5, 'mango': 25}\n"
     ]
    }
   ],
   "source": [
    "fruits['mango'] = 25 #add new key-value pair in dictionary\n",
    "pp(fruits)"
   ]
  },
  {
   "cell_type": "code",
   "execution_count": 12,
   "metadata": {},
   "outputs": [
    {
     "name": "stdout",
     "output_type": "stream",
     "text": [
      "{'fruits': ['apple', 'banana', 'orange', 'grape'],\n",
      " 'vegetables': ['carrot', 'lettuce', 'onion'],\n",
      " 'dairy': ['milk', 'cheese', 'yogurt'],\n",
      " 'meat': None,\n",
      " 'spices': ['cumin', 'coriander', 'turmeric']}\n"
     ]
    }
   ],
   "source": [
    "grocery['spices'] = ['cumin','coriander','turmeric'] #add new key-value pair in dictionary\n",
    "pp(grocery)"
   ]
  },
  {
   "cell_type": "code",
   "execution_count": 13,
   "metadata": {},
   "outputs": [
    {
     "name": "stdout",
     "output_type": "stream",
     "text": [
      "{'fruits': ['apple', 'banana', 'orange', 'grape', 'mango'],\n",
      " 'vegetables': ['carrot', 'lettuce', 'onion'],\n",
      " 'dairy': ['milk', 'cheese', 'yogurt'],\n",
      " 'meat': None,\n",
      " 'spices': ['cumin', 'coriander', 'turmeric']}\n"
     ]
    }
   ],
   "source": [
    "grocery['fruits'].append('mango')  #add new value in list\n",
    "pp(grocery)"
   ]
  },
  {
   "cell_type": "code",
   "execution_count": 14,
   "metadata": {},
   "outputs": [
    {
     "name": "stdout",
     "output_type": "stream",
     "text": [
      "{'rajesh': {'English': 90, 'Math': 80, 'Science': 70, 'EVS': 99},\n",
      " 'suresh': {'English': 80, 'Math': 70, 'Science': 80}}\n"
     ]
    }
   ],
   "source": [
    "reports[\"rajesh\"][\"EVS\"] = 99    #to add a new key-value pair in sub-dictionary\n",
    "pp(reports)"
   ]
  },
  {
   "cell_type": "code",
   "execution_count": 15,
   "metadata": {},
   "outputs": [
    {
     "data": {
      "text/plain": [
       "3"
      ]
     },
     "execution_count": 15,
     "metadata": {},
     "output_type": "execute_result"
    }
   ],
   "source": [
    "fruits.pop(\"banana\")   #remove key-value pair from  dictionary"
   ]
  },
  {
   "cell_type": "code",
   "execution_count": 16,
   "metadata": {},
   "outputs": [],
   "source": [
    "grocery[\"vegetables\"].remove(\"onion\")  #remove value from list"
   ]
  },
  {
   "cell_type": "code",
   "execution_count": 17,
   "metadata": {},
   "outputs": [
    {
     "data": {
      "text/plain": [
       "dict_keys(['apple', 'orange ', 'mango'])"
      ]
     },
     "execution_count": 17,
     "metadata": {},
     "output_type": "execute_result"
    }
   ],
   "source": [
    "fruits.keys()   #get all keys from dictionary"
   ]
  },
  {
   "cell_type": "code",
   "execution_count": 18,
   "metadata": {},
   "outputs": [
    {
     "data": {
      "text/plain": [
       "dict_values([10, 5, 25])"
      ]
     },
     "execution_count": 18,
     "metadata": {},
     "output_type": "execute_result"
    }
   ],
   "source": [
    "fruits.values()   #get all  values from dictionary"
   ]
  },
  {
   "cell_type": "code",
   "execution_count": 19,
   "metadata": {},
   "outputs": [
    {
     "data": {
      "text/plain": [
       "dict_items([('apple', 10), ('orange ', 5), ('mango', 25)])"
      ]
     },
     "execution_count": 19,
     "metadata": {},
     "output_type": "execute_result"
    }
   ],
   "source": [
    "fruits.items()    #get all key-value pairs from dictionary"
   ]
  },
  {
   "cell_type": "code",
   "execution_count": 20,
   "metadata": {},
   "outputs": [
    {
     "name": "stdout",
     "output_type": "stream",
     "text": [
      "apple 10\n",
      "orange  5\n",
      "mango 25\n"
     ]
    }
   ],
   "source": [
    "#traversal\n",
    "for k,v in fruits.items():\n",
    "    print(k,v)"
   ]
  },
  {
   "cell_type": "code",
   "execution_count": 22,
   "metadata": {},
   "outputs": [
    {
     "data": {
      "text/plain": [
       "80"
      ]
     },
     "execution_count": 22,
     "metadata": {},
     "output_type": "execute_result"
    }
   ],
   "source": [
    "reports['suresh']['English']  #to access a  value of a key"
   ]
  },
  {
   "cell_type": "code",
   "execution_count": 23,
   "metadata": {},
   "outputs": [
    {
     "data": {
      "text/plain": [
       "{'English': 80, 'Math': 70, 'Science': 80}"
      ]
     },
     "execution_count": 23,
     "metadata": {},
     "output_type": "execute_result"
    }
   ],
   "source": [
    "reports.get(\"suresh\")  #to fetch data"
   ]
  },
  {
   "cell_type": "code",
   "execution_count": 24,
   "metadata": {},
   "outputs": [
    {
     "data": {
      "text/plain": [
       "'Student not found'"
      ]
     },
     "execution_count": 24,
     "metadata": {},
     "output_type": "execute_result"
    }
   ],
   "source": [
    "reports.get(\"ramesh\",\"Student not found\")"
   ]
  },
  {
   "cell_type": "code",
   "execution_count": 25,
   "metadata": {},
   "outputs": [
    {
     "data": {
      "text/plain": [
       "{'English': 80, 'Math': 70, 'Science': 80}"
      ]
     },
     "execution_count": 25,
     "metadata": {},
     "output_type": "execute_result"
    }
   ],
   "source": [
    "reports.get(\"suresh\",\"Student not found\")"
   ]
  },
  {
   "cell_type": "code",
   "execution_count": 26,
   "metadata": {},
   "outputs": [
    {
     "name": "stdout",
     "output_type": "stream",
     "text": [
      "{'rajesh': {'English': 90, 'Math': 80, 'Science': 70, 'EVS': 99},\n",
      " 'suresh': {'English': 80, 'Math': 70, 'Science': 80},\n",
      " 'sunita': {'English': 90, 'Math': 80, 'Science': 70}}\n"
     ]
    }
   ],
   "source": [
    "reports['sunita'] = {\n",
    "    'English' : 90,\n",
    "    'Math': 80,\n",
    "    'Science' : 70\n",
    "}\n",
    "pp(reports)"
   ]
  },
  {
   "cell_type": "code",
   "execution_count": 27,
   "metadata": {},
   "outputs": [
    {
     "name": "stdout",
     "output_type": "stream",
     "text": [
      "rajesh\n",
      "90 in English\n",
      "80 in Math\n",
      "70 in Science\n",
      "99 in EVS\n",
      "------------------------------------------------------------\n",
      "suresh\n",
      "80 in English\n",
      "70 in Math\n",
      "80 in Science\n",
      "------------------------------------------------------------\n",
      "sunita\n",
      "90 in English\n",
      "80 in Math\n",
      "70 in Science\n",
      "------------------------------------------------------------\n"
     ]
    }
   ],
   "source": [
    "for student,details in reports.items():\n",
    "    print(student)\n",
    "    for subject,marks in details.items():\n",
    "        print(f'{marks} in {subject}')\n",
    "    print(\"------\" * 10)    "
   ]
  },
  {
   "attachments": {},
   "cell_type": "markdown",
   "metadata": {},
   "source": [
    "# task\n",
    "Create a dictionary of 5 employee with details\n",
    "- name : str\n",
    "- dept : str\n",
    "- salary : int\n",
    "- skills : list\n",
    "- projects : dict\n",
    "     - project_name : str\n",
    "     - project_duration : int\n",
    "     - project_technologies : list"
   ]
  },
  {
   "cell_type": "code",
   "execution_count": 28,
   "metadata": {},
   "outputs": [],
   "source": [
    "emps = {\n",
    "    'e1' : {\n",
    "        'name' : 'Alex',\n",
    "        'dept' : 'HR',\n",
    "        'salary' : 10000,\n",
    "        'skills' : ['communication','management'],\n",
    "        'projects': {\n",
    "            'project1' : {\n",
    "            'project_name' : 'HRMS',\n",
    "            'project_duration' : 6,\n",
    "            'project_technology' : ['excel','power BI','powerpoint']\n",
    "            },\n",
    "        }\n",
    "    },\n",
    "    'e2' : {\n",
    "        'name' : 'Ananya',\n",
    "        'dept' : 'Management',\n",
    "        'salary' : 90000,\n",
    "        'skills': ['management', 'writing'],\n",
    "        'projects': {\n",
    "            'project2' : {\n",
    "                'project_name' : \"Object Detection using Python\",\n",
    "                'project_duration' : 10,\n",
    "                'project_technology': ['excel','powerpoint']\n",
    "            }\n",
    "        }\n",
    "    }\n",
    "    \n",
    "}"
   ]
  },
  {
   "cell_type": "code",
   "execution_count": null,
   "metadata": {},
   "outputs": [],
   "source": []
  }
 ],
 "metadata": {
  "kernelspec": {
   "display_name": "base",
   "language": "python",
   "name": "python3"
  },
  "language_info": {
   "codemirror_mode": {
    "name": "ipython",
    "version": 3
   },
   "file_extension": ".py",
   "mimetype": "text/x-python",
   "name": "python",
   "nbconvert_exporter": "python",
   "pygments_lexer": "ipython3",
   "version": "3.10.10"
  },
  "orig_nbformat": 4
 },
 "nbformat": 4,
 "nbformat_minor": 2
}
