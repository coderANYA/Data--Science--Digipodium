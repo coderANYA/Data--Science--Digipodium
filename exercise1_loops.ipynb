{
 "cells": [
  {
   "cell_type": "code",
   "execution_count": 1,
   "metadata": {},
   "outputs": [
    {
     "name": "stdout",
     "output_type": "stream",
     "text": [
      "1\n",
      "2\n",
      "3\n",
      "4\n",
      "5\n",
      "6\n",
      "7\n",
      "8\n",
      "9\n",
      "10\n"
     ]
    }
   ],
   "source": [
    "#1 Write a program to print numbers from 1 to 10 using a for loop.\n",
    "for i in range(1,11):\n",
    "    print(i)"
   ]
  },
  {
   "cell_type": "code",
   "execution_count": 3,
   "metadata": {},
   "outputs": [
    {
     "name": "stdout",
     "output_type": "stream",
     "text": [
      "5 X 1 = 5\n",
      "5 X 2 = 10\n",
      "5 X 3 = 15\n",
      "5 X 4 = 20\n",
      "5 X 5 = 25\n",
      "5 X 6 = 30\n",
      "5 X 7 = 35\n",
      "5 X 8 = 40\n",
      "5 X 9 = 45\n",
      "5 X 10 = 50\n"
     ]
    }
   ],
   "source": [
    "#2 Write a program to print the multiplication table of a given number using a while loop.\n",
    "count = 1\n",
    "while (count <= 10):\n",
    "    print(\"5 X\",count, \"=\",5 * count)\n",
    "    count += 1\n"
   ]
  },
  {
   "cell_type": "code",
   "execution_count": 14,
   "metadata": {},
   "outputs": [
    {
     "name": "stdout",
     "output_type": "stream",
     "text": [
      "The sum of all even numbers between 1 to 100 is 2550\n"
     ]
    }
   ],
   "source": [
    "#3 Write a program to find the sum of all even numbers between 1 and 100 using a for loop.\n",
    "result = 0\n",
    "for num in range(1,101):\n",
    "    if(num % 2 == 0):\n",
    "        result += num\n",
    "print(\"The sum of all even numbers between 1 to 100 is\", result)"
   ]
  },
  {
   "cell_type": "code",
   "execution_count": 15,
   "metadata": {},
   "outputs": [
    {
     "name": "stdout",
     "output_type": "stream",
     "text": [
      "3 is prime\n"
     ]
    }
   ],
   "source": [
    "#4 Write a program to check if a given number is prime or not using a while loop.\n",
    "i = 2\n",
    "num = int(input(\"Enter a positive number: \"))\n",
    "flag = True\n",
    "\n",
    "while(i < num):\n",
    "    if num % i == 0:\n",
    "       flag = False\n",
    "    i += 1\n",
    "\n",
    "if flag:\n",
    "    print(f'{num} is prime')\n",
    "else:\n",
    "    print(f'{num} is not prime')    \n"
   ]
  },
  {
   "cell_type": "code",
   "execution_count": 4,
   "metadata": {},
   "outputs": [
    {
     "name": "stdout",
     "output_type": "stream",
     "text": [
      "The factorial of 5 is : 120\n"
     ]
    }
   ],
   "source": [
    "#5 Write a program to calculate the factorial of a number using a for loop.\n",
    "n = int(input(\"Enter a number: \"))\n",
    "factorial = 1\n",
    "if n >= 1:\n",
    "    for i in range(1, n + 1):\n",
    "        factorial *= i\n",
    "print(f'The factorial of {n} is :',factorial)        "
   ]
  },
  {
   "cell_type": "code",
   "execution_count": 14,
   "metadata": {},
   "outputs": [
    {
     "name": "stdout",
     "output_type": "stream",
     "text": [
      "Fibonacci series till 10 is: 0 1 1 2 3 5 8 13 21 34 "
     ]
    }
   ],
   "source": [
    "#6 Write a program to print the Fibonacci series up to a given limit using a while loop.\n",
    "n = int(input(\"Enter a positive number: \"))\n",
    "a = 0\n",
    "b = 1\n",
    "sum = a + b\n",
    "count = 1\n",
    "print(f'Fibonacci series till {n} is:', end = \" \")\n",
    "while count <= n:\n",
    "    count += 1\n",
    "    print(a, end = \" \")\n",
    "    a = b                      # assigning b's value to a\n",
    "    b = sum                    # assigning  the value of 'sum' to b\n",
    "    sum = a + b\n"
   ]
  },
  {
   "cell_type": "code",
   "execution_count": 1,
   "metadata": {},
   "outputs": [
    {
     "name": "stdout",
     "output_type": "stream",
     "text": [
      "The largest element of the array is 99\n"
     ]
    }
   ],
   "source": [
    "#7 Write a program to find the largest element in an array using a for loop.\n",
    "\n",
    "arr = [45,89,23,12,99]\n",
    "max_element = arr[0]         # Initialising max_element with first element of the array\n",
    "for i in range(0,len(arr)):\n",
    "    if arr[i] > max_element:     # Comparing elements of array with max_element\n",
    "        max_element = arr[i]\n",
    "print(f'The largest element of the array is {max_element}')        \n"
   ]
  },
  {
   "cell_type": "code",
   "execution_count": 5,
   "metadata": {},
   "outputs": [
    {
     "name": "stdout",
     "output_type": "stream",
     "text": [
      "The Original String is : Ananya\n",
      "The Reversed String is :  aynanA\n"
     ]
    }
   ],
   "source": [
    "#8 Write a program to reverse a given string using a while loop.\n",
    "a = input(\"Enter a string: \")\n",
    "b = \" \"              # a variable storing reversed string char by char\n",
    "i = len(a) - 1\n",
    "\n",
    "while i >= 0:          \n",
    "    b = b + a[i]\n",
    "    i = i - 1\n",
    "\n",
    "print(\"The Original String is :\" ,a)\n",
    "print(\"The Reversed String is :\" ,b)    \n"
   ]
  },
  {
   "cell_type": "code",
   "execution_count": 8,
   "metadata": {},
   "outputs": [
    {
     "name": "stdout",
     "output_type": "stream",
     "text": [
      "ASCII Value: 65 , Character :  A\n",
      "ASCII Value: 66 , Character :  B\n",
      "ASCII Value: 67 , Character :  C\n",
      "ASCII Value: 68 , Character :  D\n",
      "ASCII Value: 69 , Character :  E\n",
      "ASCII Value: 70 , Character :  F\n",
      "ASCII Value: 71 , Character :  G\n",
      "ASCII Value: 72 , Character :  H\n",
      "ASCII Value: 73 , Character :  I\n",
      "ASCII Value: 74 , Character :  J\n",
      "ASCII Value: 75 , Character :  K\n",
      "ASCII Value: 76 , Character :  L\n",
      "ASCII Value: 77 , Character :  M\n",
      "ASCII Value: 78 , Character :  N\n",
      "ASCII Value: 79 , Character :  O\n",
      "ASCII Value: 80 , Character :  P\n",
      "ASCII Value: 81 , Character :  Q\n",
      "ASCII Value: 82 , Character :  R\n",
      "ASCII Value: 83 , Character :  S\n",
      "ASCII Value: 84 , Character :  T\n",
      "ASCII Value: 85 , Character :  U\n",
      "ASCII Value: 86 , Character :  V\n",
      "ASCII Value: 87 , Character :  W\n",
      "ASCII Value: 88 , Character :  X\n",
      "ASCII Value: 89 , Character :  Y\n",
      "ASCII Value: 90 , Character :  Z\n"
     ]
    }
   ],
   "source": [
    "#9 Write a program to print the ASCII values of all uppercase letters using a for loop.\n",
    "for ch in range(65,91):\n",
    "    print(\"ASCII Value:\" , ch, \", Character : \", chr(ch))"
   ]
  },
  {
   "cell_type": "code",
   "execution_count": 11,
   "metadata": {},
   "outputs": [
    {
     "name": "stdout",
     "output_type": "stream",
     "text": [
      "The average of the list is 57.75\n"
     ]
    }
   ],
   "source": [
    "#11 Write a program to calculate the average of a list of numbers using a for loop.\n",
    "l1 = [45,78,33,21,90,67,30,98]\n",
    "result = 0\n",
    "for i in range(0,len(l1)):\n",
    "      result = result + l1[i]\n",
    "avg = result/len(l1)\n",
    "print(f'The average of the list is {avg}')"
   ]
  },
  {
   "cell_type": "code",
   "execution_count": null,
   "metadata": {},
   "outputs": [],
   "source": []
  }
 ],
 "metadata": {
  "kernelspec": {
   "display_name": "base",
   "language": "python",
   "name": "python3"
  },
  "language_info": {
   "codemirror_mode": {
    "name": "ipython",
    "version": 3
   },
   "file_extension": ".py",
   "mimetype": "text/x-python",
   "name": "python",
   "nbconvert_exporter": "python",
   "pygments_lexer": "ipython3",
   "version": "3.10.10"
  },
  "orig_nbformat": 4
 },
 "nbformat": 4,
 "nbformat_minor": 2
}
