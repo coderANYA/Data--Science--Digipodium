{
 "cells": [
  {
   "cell_type": "code",
   "execution_count": 1,
   "metadata": {},
   "outputs": [
    {
     "name": "stdout",
     "output_type": "stream",
     "text": [
      "1\n",
      "2\n",
      "3\n",
      "4\n",
      "5\n",
      "6\n",
      "7\n",
      "8\n",
      "9\n",
      "10\n"
     ]
    }
   ],
   "source": [
    "#1 Write a program to print numbers from 1 to 10 using a for loop.\n",
    "for i in range(1,11):\n",
    "    print(i)"
   ]
  },
  {
   "cell_type": "code",
   "execution_count": 3,
   "metadata": {},
   "outputs": [
    {
     "name": "stdout",
     "output_type": "stream",
     "text": [
      "5 X 1 = 5\n",
      "5 X 2 = 10\n",
      "5 X 3 = 15\n",
      "5 X 4 = 20\n",
      "5 X 5 = 25\n",
      "5 X 6 = 30\n",
      "5 X 7 = 35\n",
      "5 X 8 = 40\n",
      "5 X 9 = 45\n",
      "5 X 10 = 50\n"
     ]
    }
   ],
   "source": [
    "#2 Write a program to print the multiplication table of a given number using a while loop.\n",
    "count = 1\n",
    "while (count <= 10):\n",
    "    print(\"5 X\",count, \"=\",5 * count)\n",
    "    count += 1\n"
   ]
  },
  {
   "cell_type": "code",
   "execution_count": 14,
   "metadata": {},
   "outputs": [
    {
     "name": "stdout",
     "output_type": "stream",
     "text": [
      "The sum of all even numbers between 1 to 100 is 2550\n"
     ]
    }
   ],
   "source": [
    "#3 Write a program to find the sum of all even numbers between 1 and 100 using a for loop.\n",
    "result = 0\n",
    "for num in range(1,101):\n",
    "    if(num % 2 == 0):\n",
    "        result += num\n",
    "print(\"The sum of all even numbers between 1 to 100 is\", result)"
   ]
  },
  {
   "cell_type": "code",
   "execution_count": 15,
   "metadata": {},
   "outputs": [
    {
     "name": "stdout",
     "output_type": "stream",
     "text": [
      "3 is prime\n"
     ]
    }
   ],
   "source": [
    "#4 Write a program to check if a given number is prime or not using a while loop.\n",
    "i = 2\n",
    "num = int(input(\"Enter a positive number: \"))\n",
    "flag = True\n",
    "\n",
    "while(i < num):\n",
    "    if num % i == 0:\n",
    "       flag = False\n",
    "    i += 1\n",
    "\n",
    "if flag:\n",
    "    print(f'{num} is prime')\n",
    "else:\n",
    "    print(f'{num} is not prime')    \n"
   ]
  },
  {
   "cell_type": "code",
   "execution_count": 4,
   "metadata": {},
   "outputs": [
    {
     "name": "stdout",
     "output_type": "stream",
     "text": [
      "The factorial of 5 is : 120\n"
     ]
    }
   ],
   "source": [
    "#5 Write a program to calculate the factorial of a number using a for loop.\n",
    "n = int(input(\"Enter a number: \"))\n",
    "factorial = 1\n",
    "if n >= 1:\n",
    "    for i in range(1, n + 1):\n",
    "        factorial *= i\n",
    "print(f'The factorial of {n} is :',factorial)        "
   ]
  },
  {
   "cell_type": "code",
   "execution_count": 14,
   "metadata": {},
   "outputs": [
    {
     "name": "stdout",
     "output_type": "stream",
     "text": [
      "Fibonacci series till 10 is: 0 1 1 2 3 5 8 13 21 34 "
     ]
    }
   ],
   "source": [
    "#6 Write a program to print the Fibonacci series up to a given limit using a while loop.\n",
    "n = int(input(\"Enter a positive number: \"))\n",
    "a = 0\n",
    "b = 1\n",
    "sum = a + b\n",
    "count = 1\n",
    "print(f'Fibonacci series till {n} is:', end = \" \")\n",
    "while count <= n:\n",
    "    count += 1\n",
    "    print(a, end = \" \")\n",
    "    a = b \n",
    "    b = sum\n",
    "    sum = a + b\n"
   ]
  },
  {
   "cell_type": "code",
   "execution_count": null,
   "metadata": {},
   "outputs": [],
   "source": [
    "#7 Write a program to find the largest element in an array using a for loop.\n"
   ]
  }
 ],
 "metadata": {
  "kernelspec": {
   "display_name": "base",
   "language": "python",
   "name": "python3"
  },
  "language_info": {
   "codemirror_mode": {
    "name": "ipython",
    "version": 3
   },
   "file_extension": ".py",
   "mimetype": "text/x-python",
   "name": "python",
   "nbconvert_exporter": "python",
   "pygments_lexer": "ipython3",
   "version": "3.10.10"
  },
  "orig_nbformat": 4
 },
 "nbformat": 4,
 "nbformat_minor": 2
}
