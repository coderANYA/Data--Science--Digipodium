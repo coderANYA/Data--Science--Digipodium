{
 "cells": [
  {
   "cell_type": "code",
   "execution_count": 1,
   "metadata": {},
   "outputs": [],
   "source": [
    "x = [1,2,3,3,4,5,6,7,8,9,10]\n",
    "y = []         #empty list\n",
    "z = ['apple','banana','cherry','orange','kiwi','melon','mango']\n",
    "a = ['alex',5,'sam','7','john',10,'james',15]\n",
    "a3 = [[1,2,3],\n",
    "      [4,5,6],\n",
    "      [7,8,9]]"
   ]
  },
  {
   "cell_type": "code",
   "execution_count": 2,
   "metadata": {},
   "outputs": [],
   "source": [
    "class Movie:\n",
    "    def __init__(self,name,year):                 #objects\n",
    "        self.name = name\n",
    "        self.year = year\n",
    "\n",
    "movies = [\n",
    "    Movie(\"The Matrix\", 1999),\n",
    "    Movie(\"The Matrix Reloaded\", 2003),\n",
    "    Movie(\"The Matrix Revolution\", 2003),\n",
    "    Movie(\"The Matrix Resurrection\", 2021)\n",
    "]        "
   ]
  },
  {
   "cell_type": "code",
   "execution_count": 3,
   "metadata": {},
   "outputs": [
    {
     "data": {
      "text/plain": [
       "['A', 'n', 'a', 'n', 'y', 'a']"
      ]
     },
     "execution_count": 3,
     "metadata": {},
     "output_type": "execute_result"
    }
   ],
   "source": [
    "#list with the help of list function\n",
    "name = 'Ananya'\n",
    "list(name)"
   ]
  },
  {
   "cell_type": "code",
   "execution_count": 4,
   "metadata": {},
   "outputs": [
    {
     "name": "stdout",
     "output_type": "stream",
     "text": [
      "[1, 2, 3, 4, 5, 6, 7, 8, 9, 10, 11, 12, 13, 14, 15, 16, 17, 18, 19, 20, 21, 22, 23, 24, 25, 26, 27, 28, 29, 30, 31, 32, 33, 34, 35, 36, 37, 38, 39, 40, 41, 42, 43, 44, 45, 46, 47, 48, 49, 50, 51, 52, 53, 54, 55, 56, 57, 58, 59, 60, 61, 62, 63, 64, 65, 66, 67, 68, 69, 70, 71, 72, 73, 74, 75, 76, 77, 78, 79, 80, 81, 82, 83, 84, 85, 86, 87, 88, 89, 90, 91, 92, 93, 94, 95, 96, 97, 98, 99, 100]\n"
     ]
    }
   ],
   "source": [
    "print(list(range(1,101)))"
   ]
  },
  {
   "cell_type": "code",
   "execution_count": 5,
   "metadata": {},
   "outputs": [
    {
     "name": "stdout",
     "output_type": "stream",
     "text": [
      "alex\n",
      "15\n",
      "james\n",
      "5\n"
     ]
    }
   ],
   "source": [
    "print(a[0])\n",
    "print(a[-1])\n",
    "print(a[-2])\n",
    "print(a[1])\n",
    "# print(a[49])"
   ]
  },
  {
   "cell_type": "code",
   "execution_count": 31,
   "metadata": {},
   "outputs": [
    {
     "name": "stdout",
     "output_type": "stream",
     "text": [
      "[1, 2, 3, 4, 5, 6, 7, 8, 9, 10]\n",
      "[11, 12, 13, 14, 15, 16, 17, 18, 19, 20]\n",
      "[91, 92, 93, 94, 95, 96, 97, 98, 99, 100]\n",
      "[24, 25, 26, 27, 28, 29, 30, 31, 32, 33, 34, 35, 36]\n",
      "[51, 50, 49, 48, 47, 46, 45, 44, 43, 42, 41, 40, 39, 38, 37, 36, 35, 34, 33, 32]\n",
      "[2, 4, 6, 8, 10, 12, 14, 16, 18, 20, 22, 24, 26, 28, 30, 32, 34, 36, 38, 40, 42, 44, 46, 48, 50, 52, 54, 56, 58, 60, 62, 64, 66, 68, 70, 72, 74, 76, 78, 80, 82, 84, 86, 88, 90, 92, 94, 96, 98, 100]\n",
      "[100, 99, 98, 97, 96, 95, 94, 93, 92, 91, 90, 89, 88, 87, 86, 85, 84, 83, 82, 81, 80, 79, 78, 77, 76, 75, 74, 73, 72, 71, 70, 69, 68, 67, 66, 65, 64, 63, 62, 61, 60, 59, 58, 57, 56, 55, 54, 53, 52, 51, 50, 49, 48, 47, 46, 45, 44, 43, 42, 41, 40, 39, 38, 37, 36, 35, 34, 33, 32, 31, 30, 29, 28, 27, 26, 25, 24, 23, 22, 21, 20, 19, 18, 17, 16, 15, 14, 13, 12, 11, 10, 9, 8, 7, 6, 5, 4, 3, 2, 1]\n"
     ]
    }
   ],
   "source": [
    "#slicing\n",
    "data = list(range(1,101))\n",
    "print(data[ : 10])\n",
    "print(data[10 : 20])\n",
    "print(data[-10:])     #last 10 elements\n",
    "print(data[23:36])\n",
    "print(data[50:30:-1])  #reverse slice\n",
    "print(data[1::2])     #odd numbers\n",
    "print(data[::-1])      #reverse list"
   ]
  },
  {
   "cell_type": "code",
   "execution_count": 7,
   "metadata": {},
   "outputs": [
    {
     "name": "stdout",
     "output_type": "stream",
     "text": [
      "alex\n",
      "5\n",
      "sam\n",
      "7\n",
      "john\n",
      "10\n",
      "james\n",
      "15\n"
     ]
    }
   ],
   "source": [
    "for item in a:\n",
    "    print(item)"
   ]
  },
  {
   "cell_type": "code",
   "execution_count": 8,
   "metadata": {},
   "outputs": [
    {
     "name": "stdout",
     "output_type": "stream",
     "text": [
      "['Mob Psychology 100', 'Bleach', 'Demon  Slayer', 'One Puch Man', 'Full  Metal  Slayer']\n"
     ]
    }
   ],
   "source": [
    "#user created list\n",
    "animelist = []\n",
    "for i in range(5):\n",
    "    name = input(\"Enter an anime : \")\n",
    "    animelist.append(name)\n",
    "print(animelist)"
   ]
  },
  {
   "cell_type": "code",
   "execution_count": 9,
   "metadata": {},
   "outputs": [
    {
     "data": {
      "text/plain": [
       "[1, 2, 3, 4, 5, 6, 7, 8]"
      ]
     },
     "execution_count": 9,
     "metadata": {},
     "output_type": "execute_result"
    }
   ],
   "source": [
    "x = [1,2,3,4]\n",
    "y = [5,6,7,8]\n",
    "x + y           #creates new list"
   ]
  },
  {
   "cell_type": "code",
   "execution_count": 10,
   "metadata": {},
   "outputs": [
    {
     "name": "stdout",
     "output_type": "stream",
     "text": [
      "[1, 2, 3, 4, 5, 6, 7, 8]\n"
     ]
    }
   ],
   "source": [
    "x.extend(y)   #modifies x\n",
    "print(x)"
   ]
  },
  {
   "cell_type": "code",
   "execution_count": 4,
   "metadata": {},
   "outputs": [],
   "source": [
    "books = [\n",
    "    \"The Final Empire\",\n",
    "    \"Hero of Ages\",\n",
    "    \"Well of Ascension\",\n",
    "    \"The Way of Kings\",\n",
    "    'Words of Radiance',\n",
    "    \"Oathbringer\",\n",
    "    \"Rhythm of War\",\n",
    "    \"Warbreaker\",\n",
    "    \"Elantris\",\n",
    "    \"White Sand\"\n",
    "]"
   ]
  },
  {
   "cell_type": "code",
   "execution_count": 12,
   "metadata": {},
   "outputs": [
    {
     "data": {
      "text/plain": [
       "5"
      ]
     },
     "execution_count": 12,
     "metadata": {},
     "output_type": "execute_result"
    }
   ],
   "source": [
    "books.index(\"Oathbringer\")"
   ]
  },
  {
   "cell_type": "code",
   "execution_count": 13,
   "metadata": {},
   "outputs": [
    {
     "name": "stdout",
     "output_type": "stream",
     "text": [
      "5\n",
      "4\n",
      "2\n",
      "0\n"
     ]
    }
   ],
   "source": [
    "x = [12,1,12,3,3,123,12,31,2,1,2,1,2,1,2,1,21,12,2]\n",
    "print(x.count(1))\n",
    "print(x.count(12))\n",
    "print(x.count(3))\n",
    "print(x.count(10))"
   ]
  },
  {
   "cell_type": "code",
   "execution_count": 14,
   "metadata": {},
   "outputs": [
    {
     "name": "stdout",
     "output_type": "stream",
     "text": [
      "['White Sand', 'Elantris', 'Warbreaker', 'Rhythm of War', 'Oathbringer', 'Words of Radiance', 'The Way of Kings', 'Well of Ascension', 'Hero of Ages', 'The Final Empire']\n"
     ]
    }
   ],
   "source": [
    "books.reverse()\n",
    "print(books)"
   ]
  },
  {
   "cell_type": "code",
   "execution_count": 6,
   "metadata": {},
   "outputs": [
    {
     "name": "stdout",
     "output_type": "stream",
     "text": [
      "['Elantris', 'Hero of Ages', 'Oathbringer', 'Rhythm of War', 'The Final Empire', 'The Way of Kings', 'Warbreaker', 'Well of Ascension', 'White Sand', 'Words of Radiance']\n"
     ]
    }
   ],
   "source": [
    "books.sort()  #sorts data in ascending order if all elements are of same type\n",
    "print(books)"
   ]
  },
  {
   "cell_type": "code",
   "execution_count": 7,
   "metadata": {},
   "outputs": [
    {
     "name": "stdout",
     "output_type": "stream",
     "text": [
      "['Words of Radiance', 'White Sand', 'Well of Ascension', 'Warbreaker', 'The Way of Kings', 'The Final Empire', 'Rhythm of War', 'Oathbringer', 'Hero of Ages', 'Elantris']\n"
     ]
    }
   ],
   "source": [
    "books.sort(reverse = True)  #sorts data in descending order if all elements are of same type\n",
    "print(books)"
   ]
  },
  {
   "cell_type": "code",
   "execution_count": 9,
   "metadata": {},
   "outputs": [],
   "source": [
    "books_backup = books.copy()  # a copy of variable is created at a different memory location\n"
   ]
  },
  {
   "cell_type": "code",
   "execution_count": 11,
   "metadata": {},
   "outputs": [],
   "source": [
    "books2 = books  # both variables point to the same memory location. This method of creating a backup/copy of the variable holding a list should never be used"
   ]
  },
  {
   "cell_type": "code",
   "execution_count": 12,
   "metadata": {},
   "outputs": [
    {
     "name": "stdout",
     "output_type": "stream",
     "text": [
      "['Words of Radiance', 'White Sand', 'Well of Ascension', 'Warbreaker', 'The Way of Kings', 'The Final Empire', 'Rhythm of War', 'Oathbringer', 'Hero of Ages', 'Elantris', 'The Alloy of Law', 'The Alloy of Law']\n",
      "['Words of Radiance', 'White Sand', 'Well of Ascension', 'Warbreaker', 'The Way of Kings', 'The Final Empire', 'Rhythm of War', 'Oathbringer', 'Hero of Ages', 'Elantris', 'The Alloy of Law', 'The Alloy of Law']\n",
      "['Words of Radiance', 'White Sand', 'Well of Ascension', 'Warbreaker', 'The Way of Kings', 'The Final Empire', 'Rhythm of War', 'Oathbringer', 'Hero of Ages', 'Elantris']\n"
     ]
    }
   ],
   "source": [
    "books.append(\"The Alloy of Law\")\n",
    "print(books)\n",
    "print(books2)\n",
    "print(books_backup)"
   ]
  },
  {
   "cell_type": "code",
   "execution_count": 13,
   "metadata": {},
   "outputs": [
    {
     "data": {
      "text/plain": [
       "True"
      ]
     },
     "execution_count": 13,
     "metadata": {},
     "output_type": "execute_result"
    }
   ],
   "source": [
    "books2 is books             #Both variables are pointing at same memory location"
   ]
  },
  {
   "cell_type": "code",
   "execution_count": 14,
   "metadata": {},
   "outputs": [
    {
     "data": {
      "text/plain": [
       "False"
      ]
     },
     "execution_count": 14,
     "metadata": {},
     "output_type": "execute_result"
    }
   ],
   "source": [
    "books_backup is books        #Variables are located at different memory locations"
   ]
  },
  {
   "cell_type": "code",
   "execution_count": 15,
   "metadata": {},
   "outputs": [],
   "source": [
    "movies = []\n",
    "movies.append('Shrek')"
   ]
  },
  {
   "cell_type": "code",
   "execution_count": 16,
   "metadata": {},
   "outputs": [],
   "source": [
    "uinp = input(\"Enter a movie : \")\n",
    "movies.append(uinp)"
   ]
  },
  {
   "cell_type": "code",
   "execution_count": 17,
   "metadata": {},
   "outputs": [],
   "source": [
    "movies.append(\"The Matrix\")\n",
    "movies.append(\"The Matrix Resurrection\")\n",
    "movies.append(\"The Matrix Revolutions\")\n",
    "movies.append(\"The Matrix Reloaded\")\n",
    "movies.append(\"Fast & Furious\")\n",
    "movies.append(\"Fast & Furious 2\")\n",
    "movies.append(\"Fast & Furious 3\")\n",
    "movies.append(\"Fast & Furious 4\")\n",
    "movies.append(\"Fast & Furious 5\")"
   ]
  },
  {
   "cell_type": "code",
   "execution_count": 18,
   "metadata": {},
   "outputs": [
    {
     "data": {
      "text/plain": [
       "['Shrek',\n",
       " \"'The  Matrix'\",\n",
       " 'The Matrix',\n",
       " 'The Matrix Resurrection',\n",
       " 'The Matrix Revolutions',\n",
       " 'The Matrix Reloaded',\n",
       " 'Fast & Furious',\n",
       " 'Fast & Furious 2',\n",
       " 'Fast & Furious 3',\n",
       " 'Fast & Furious 4',\n",
       " 'Fast & Furious 5']"
      ]
     },
     "execution_count": 18,
     "metadata": {},
     "output_type": "execute_result"
    }
   ],
   "source": [
    "movies"
   ]
  },
  {
   "cell_type": "code",
   "execution_count": 19,
   "metadata": {},
   "outputs": [],
   "source": [
    "value = \"Shrek\"\n",
    "if value in movies:\n",
    "    movies.remove(value)\n",
    "else:\n",
    "    print(\"Value not found\")"
   ]
  },
  {
   "cell_type": "code",
   "execution_count": 20,
   "metadata": {},
   "outputs": [
    {
     "data": {
      "text/plain": [
       "[\"'The  Matrix'\",\n",
       " 'The Matrix',\n",
       " 'The Matrix Resurrection',\n",
       " 'The Matrix Revolutions',\n",
       " 'The Matrix Reloaded',\n",
       " 'Fast & Furious',\n",
       " 'Fast & Furious 2',\n",
       " 'Fast & Furious 3',\n",
       " 'Fast & Furious 4',\n",
       " 'Fast & Furious 5']"
      ]
     },
     "execution_count": 20,
     "metadata": {},
     "output_type": "execute_result"
    }
   ],
   "source": [
    "movies"
   ]
  },
  {
   "cell_type": "code",
   "execution_count": 21,
   "metadata": {},
   "outputs": [],
   "source": [
    "movies.remove(\"The Matrix\")  #The first occurrence will be removed"
   ]
  },
  {
   "cell_type": "code",
   "execution_count": 22,
   "metadata": {},
   "outputs": [
    {
     "data": {
      "text/plain": [
       "[\"'The  Matrix'\",\n",
       " 'The Matrix Resurrection',\n",
       " 'The Matrix Revolutions',\n",
       " 'The Matrix Reloaded',\n",
       " 'Fast & Furious',\n",
       " 'Fast & Furious 2',\n",
       " 'Fast & Furious 3',\n",
       " 'Fast & Furious 4',\n",
       " 'Fast & Furious 5']"
      ]
     },
     "execution_count": 22,
     "metadata": {},
     "output_type": "execute_result"
    }
   ],
   "source": [
    "movies"
   ]
  },
  {
   "cell_type": "code",
   "execution_count": 23,
   "metadata": {},
   "outputs": [
    {
     "data": {
      "text/plain": [
       "[\"'The  Matrix'\",\n",
       " 'The Matrix Resurrection',\n",
       " 'Kung Fu Panda',\n",
       " 'The Matrix Reloaded',\n",
       " 'Fast & Furious',\n",
       " 'Fast & Furious 2',\n",
       " 'Fast & Furious 3',\n",
       " 'Fast & Furious 4',\n",
       " 'Fast & Furious 5']"
      ]
     },
     "execution_count": 23,
     "metadata": {},
     "output_type": "execute_result"
    }
   ],
   "source": [
    "movies[2] = \"Kung Fu Panda\"  #update\n",
    "movies"
   ]
  },
  {
   "cell_type": "code",
   "execution_count": 24,
   "metadata": {},
   "outputs": [
    {
     "data": {
      "text/plain": [
       "[\"'The  Matrix'\",\n",
       " 'The Matrix Resurrection',\n",
       " 'Kung Fu Panda',\n",
       " 'Kung Fu Panda 2',\n",
       " 'The Matrix Reloaded',\n",
       " 'Fast & Furious',\n",
       " 'Fast & Furious 2',\n",
       " 'Fast & Furious 3',\n",
       " 'Fast & Furious 4',\n",
       " 'Fast & Furious 5']"
      ]
     },
     "execution_count": 24,
     "metadata": {},
     "output_type": "execute_result"
    }
   ],
   "source": [
    "movies.insert(3,\"Kung Fu Panda 2\")    #insert\n",
    "movies"
   ]
  },
  {
   "cell_type": "code",
   "execution_count": 25,
   "metadata": {},
   "outputs": [
    {
     "data": {
      "text/plain": [
       "'Fast & Furious 5'"
      ]
     },
     "execution_count": 25,
     "metadata": {},
     "output_type": "execute_result"
    }
   ],
   "source": [
    "movies.pop()       #removes the last element"
   ]
  },
  {
   "cell_type": "code",
   "execution_count": 26,
   "metadata": {},
   "outputs": [
    {
     "data": {
      "text/plain": [
       "\"'The  Matrix'\""
      ]
     },
     "execution_count": 26,
     "metadata": {},
     "output_type": "execute_result"
    }
   ],
   "source": [
    "movies.pop(0)      #removes the element at first index"
   ]
  },
  {
   "cell_type": "code",
   "execution_count": 27,
   "metadata": {},
   "outputs": [
    {
     "data": {
      "text/plain": [
       "['The Matrix Resurrection',\n",
       " 'Kung Fu Panda',\n",
       " 'Kung Fu Panda 2',\n",
       " 'The Matrix Reloaded',\n",
       " 'Fast & Furious',\n",
       " 'Fast & Furious 2',\n",
       " 'Fast & Furious 3',\n",
       " 'Fast & Furious 4']"
      ]
     },
     "execution_count": 27,
     "metadata": {},
     "output_type": "execute_result"
    }
   ],
   "source": [
    "movies"
   ]
  },
  {
   "cell_type": "code",
   "execution_count": 28,
   "metadata": {},
   "outputs": [],
   "source": [
    "movies.clear()        #removes all elements"
   ]
  },
  {
   "cell_type": "code",
   "execution_count": 29,
   "metadata": {},
   "outputs": [
    {
     "data": {
      "text/plain": [
       "[]"
      ]
     },
     "execution_count": 29,
     "metadata": {},
     "output_type": "execute_result"
    }
   ],
   "source": [
    "movies"
   ]
  },
  {
   "cell_type": "code",
   "execution_count": 32,
   "metadata": {},
   "outputs": [],
   "source": [
    "del data        # deletes the variable from memory"
   ]
  },
  {
   "cell_type": "code",
   "execution_count": null,
   "metadata": {},
   "outputs": [],
   "source": []
  }
 ],
 "metadata": {
  "kernelspec": {
   "display_name": "base",
   "language": "python",
   "name": "python3"
  },
  "language_info": {
   "codemirror_mode": {
    "name": "ipython",
    "version": 3
   },
   "file_extension": ".py",
   "mimetype": "text/x-python",
   "name": "python",
   "nbconvert_exporter": "python",
   "pygments_lexer": "ipython3",
   "version": "3.10.10"
  },
  "orig_nbformat": 4
 },
 "nbformat": 4,
 "nbformat_minor": 2
}
