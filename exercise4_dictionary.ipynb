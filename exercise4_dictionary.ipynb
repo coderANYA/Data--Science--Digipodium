{
 "cells": [
  {
   "cell_type": "code",
   "execution_count": 6,
   "metadata": {},
   "outputs": [
    {
     "name": "stdout",
     "output_type": "stream",
     "text": [
      "Count of all characters is: {'H': 1, 'e': 1, 'l': 2, 'o': 1}\n"
     ]
    }
   ],
   "source": [
    "#1 Write a program to count the frequency of each character in a given string using a dictionary.\n",
    "# Sample data: \"hello\"\n",
    "text = \"Hello\"\n",
    "all_freq = {}\n",
    "\n",
    "for i in text:\n",
    "    if i in all_freq:\n",
    "        all_freq[i] += 1     # already occurred character goes to 'if' part\n",
    "    else:\n",
    "        all_freq[i] = 1      # newly occurred character goes to 'else' part\n",
    "\n",
    "print(f'Count of all characters is: {all_freq}')        "
   ]
  },
  {
   "cell_type": "code",
   "execution_count": 8,
   "metadata": {},
   "outputs": [
    {
     "name": "stdout",
     "output_type": "stream",
     "text": [
      "{'a': 1, 'b': 2, 'c': 3, 'd': 4}\n"
     ]
    }
   ],
   "source": [
    "#2 Write a program to merge two dictionaries into a single dictionary.\n",
    "dict1 = {\"a\": 1, \"b\": 2}\n",
    "dict2 = {\"c\": 3, \"d\": 4}\n",
    "dict1.update(dict2)\n",
    "print(dict1)\n"
   ]
  },
  {
   "cell_type": "code",
   "execution_count": 9,
   "metadata": {},
   "outputs": [
    {
     "name": "stdout",
     "output_type": "stream",
     "text": [
      "The key with the maximum value is a\n"
     ]
    }
   ],
   "source": [
    "#3 Write a program to find the keys with the maximum value in a dictionary.\n",
    "dict = {\"a\": 10, \"b\": 5, \"c\": 10}\n",
    "key_max = max(dict,key = dict.get)\n",
    "print(f'The key with the maximum value is {key_max}')\n",
    "\n"
   ]
  },
  {
   "cell_type": "code",
   "execution_count": 33,
   "metadata": {},
   "outputs": [
    {
     "name": "stdout",
     "output_type": "stream",
     "text": [
      "No,the key {'d'} does not exist in the given dictionary\n"
     ]
    }
   ],
   "source": [
    "#4 Write a program to check if a given key exists in a dictionary.\n",
    "dict3 =  {\"a\": 1, \"b\": 2, \"c\": 3}\n",
    "key = 'd'\n",
    "if key in dict3.keys():\n",
    "    print(f'Yes,the key',{key},'exists in our dictionary')\n",
    "else:\n",
    "    print(f'No,the key',{key},'does not exist in the given dictionary')"
   ]
  },
  {
   "cell_type": "code",
   "execution_count": 13,
   "metadata": {},
   "outputs": [
    {
     "name": "stdout",
     "output_type": "stream",
     "text": [
      "{'a': 1, 'c': 3}\n"
     ]
    }
   ],
   "source": [
    "#5 Write a program to remove a specific key from a dictionary.\n",
    "dict4 = {\"a\": 1, \"b\": 2, \"c\": 3}\n",
    "dict4.pop(\"b\")\n",
    "print(dict4)"
   ]
  },
  {
   "cell_type": "code",
   "execution_count": 14,
   "metadata": {},
   "outputs": [
    {
     "name": "stdout",
     "output_type": "stream",
     "text": [
      "{'b', 'c'}\n"
     ]
    }
   ],
   "source": [
    "#6 Write a program to find the common keys in two dictionaries.\n",
    "dict1 = {\"a\": 1, \"b\": 2, \"c\": 3}\n",
    "dict2 = {\"b\": 3, \"c\": 4, \"d\": 5}\n",
    "print(set(dict1) & set(dict2))\n"
   ]
  },
  {
   "cell_type": "code",
   "execution_count": 18,
   "metadata": {},
   "outputs": [
    {
     "name": "stdout",
     "output_type": "stream",
     "text": [
      "The length of the given dictionary is: 3\n"
     ]
    }
   ],
   "source": [
    "#7 Write a program to get the length of a dictionary.\n",
    "dict5 = {\"a\": 1, \"b\": 2, \"c\": 3}\n",
    "print('The length of the given dictionary is:', len(dict5))\n"
   ]
  },
  {
   "cell_type": "code",
   "execution_count": 22,
   "metadata": {},
   "outputs": [
    {
     "name": "stdout",
     "output_type": "stream",
     "text": [
      "['a', 'b', 'c']\n"
     ]
    }
   ],
   "source": [
    "#8 Write a program to sort a dictionary by its keys in ascending order.\n",
    "dict6 = {\"b\": 2, \"a\": 1, \"c\": 3}\n",
    "new_dict = sorted(dict6.keys())\n",
    "print(new_dict)"
   ]
  },
  {
   "cell_type": "code",
   "execution_count": 23,
   "metadata": {},
   "outputs": [
    {
     "name": "stdout",
     "output_type": "stream",
     "text": [
      "The key with the minimum value is b\n"
     ]
    }
   ],
   "source": [
    "#9 Write a program to find the key with the minimum value in a dictionary.\n",
    "dict7 ={\"a\": 10, \"b\": 5, \"c\": 15}\n",
    "key_min = min(dict7, key = dict7.get)\n",
    "print(f'The key with the minimum value is {key_min}')"
   ]
  },
  {
   "cell_type": "code",
   "execution_count": 24,
   "metadata": {},
   "outputs": [
    {
     "name": "stdout",
     "output_type": "stream",
     "text": [
      "dict_values([1, 2, 3])\n"
     ]
    }
   ],
   "source": [
    "#10 Write a program to get the values of a dictionary as a list.\n",
    "dict8 = {\"a\": 1, \"b\": 2, \"c\": 3}\n",
    "print(dict8.values())"
   ]
  },
  {
   "cell_type": "code",
   "execution_count": 31,
   "metadata": {},
   "outputs": [
    {
     "name": "stdout",
     "output_type": "stream",
     "text": [
      "Yes,the value {2} exists in the given dictionary\n"
     ]
    }
   ],
   "source": [
    "#11 Write a program to check if a given value exists in a dictionary.\n",
    "dict9 = {\"a\": 1, \"b\": 2, \"c\": 3}\n",
    "value = 2\n",
    "if value in dict9.values():\n",
    "    print(f'Yes,the value',{value}, 'exists in the given dictionary')\n",
    "else:\n",
    "    print(f'No,the value',{value}, 'does not exist in our dictionary')"
   ]
  },
  {
   "cell_type": "code",
   "execution_count": 40,
   "metadata": {},
   "outputs": [
    {
     "name": "stdout",
     "output_type": "stream",
     "text": [
      "Dictionary : {1: 1, 2: 4, 3: 9, 4: 16, 5: 25, 6: 36, 7: 49, 8: 64, 9: 81, 10: 100}\n"
     ]
    }
   ],
   "source": [
    "#12 Write a program to create a dictionary with keys as numbers from 1 to 10 and their squares as values.\n",
    "# Sample data: \n",
    "# keys: [1, 2, 3, ..., 10]\n",
    "# values: [1, 4, 9, ..., 100]\n",
    "dict10 = {}\n",
    "for x in range(1,11):\n",
    "    dict10[x] = x ** 2\n",
    "print(f'Dictionary : {dict10}')\n",
    "\n"
   ]
  },
  {
   "cell_type": "code",
   "execution_count": 41,
   "metadata": {},
   "outputs": [
    {
     "name": "stdout",
     "output_type": "stream",
     "text": [
      "{'d'}\n"
     ]
    }
   ],
   "source": [
    "#13 Write a program to find the difference between two dictionaries.\n",
    "dict1 = {\"a\": 1, \"b\": 2, \"c\": 3}\n",
    "dict2 = {\"b\": 2, \"c\": 3, \"d\": 4}\n",
    "diff = set(dict2) - set(dict1)      #key which is in dictionary 2 but not in dictionary 1\n",
    "print(diff)"
   ]
  },
  {
   "cell_type": "code",
   "execution_count": 42,
   "metadata": {},
   "outputs": [
    {
     "name": "stdout",
     "output_type": "stream",
     "text": [
      "{}\n"
     ]
    }
   ],
   "source": [
    "#14 Write a program to remove all the items from a dictionary.\n",
    "dict11 ={\"a\": 1, \"b\": 2, \"c\": 3}\n",
    "dict11.clear()\n",
    "print(dict11)"
   ]
  },
  {
   "cell_type": "code",
   "execution_count": 62,
   "metadata": {},
   "outputs": [
    {
     "name": "stdout",
     "output_type": "stream",
     "text": [
      "(('a', 1), ('b', 2), ('c', 3))\n"
     ]
    }
   ],
   "source": [
    "#15 Write a program to convert a dictionary into a list of tuples.\n",
    "dict12 = {\"a\": 1, \"b\": 2, \"c\": 3}\n",
    "t1 = tuple(dict12.items())\n",
    "print(t1)"
   ]
  },
  {
   "cell_type": "code",
   "execution_count": 45,
   "metadata": {},
   "outputs": [
    {
     "name": "stdout",
     "output_type": "stream",
     "text": [
      "{1, 2, 3}\n"
     ]
    }
   ],
   "source": [
    "#16 Write a program to check if all the values in a dictionary are unique. \n",
    "dict13 = {\"a\": 1, \"b\": 2, \"c\": 3}\n",
    "s1 = set(dict13.values())\n",
    "print(s1)"
   ]
  },
  {
   "cell_type": "code",
   "execution_count": 60,
   "metadata": {},
   "outputs": [
    {
     "name": "stdout",
     "output_type": "stream",
     "text": [
      "The resultant dictionary is : {'a': 1, 'b': 2, 'c': 3}\n"
     ]
    }
   ],
   "source": [
    "#19 Write a program to create a dictionary from two lists, one containing keys and the other containing values.\n",
    "keys = [\"a\", \"b\", \"c\"]\n",
    "values = [1, 2, 3]\n",
    "dict14 = {k:v for k,v in zip(keys,values)}\n",
    "print(f'The resultant dictionary is : {dict14}')      \n",
    "\n"
   ]
  },
  {
   "cell_type": "code",
   "execution_count": 61,
   "metadata": {},
   "outputs": [
    {
     "name": "stdout",
     "output_type": "stream",
     "text": [
      "The value corresponding to the key a is 1\n",
      "The value corresponding to the key b is 2\n",
      "The value corresponding to the key c is 3\n"
     ]
    }
   ],
   "source": [
    "#20 Write a program to iterate over a dictionary and print the keys and values.\n",
    "dict15 = {\"a\": 1, \"b\": 2, \"c\": 3}\n",
    "for key,value in dict15.items():\n",
    "    print(f'The value corresponding to the key {key} is {value}')"
   ]
  },
  {
   "cell_type": "code",
   "execution_count": null,
   "metadata": {},
   "outputs": [],
   "source": [
    "#17 Write a program to extract all the values from nested dictionaries into a single list.\n",
    "dict16 = {\"a\": 1, \"b\": {\"c\": 2, \"d\": 3}, \"e\": 4}"
   ]
  }
 ],
 "metadata": {
  "kernelspec": {
   "display_name": "base",
   "language": "python",
   "name": "python3"
  },
  "language_info": {
   "codemirror_mode": {
    "name": "ipython",
    "version": 3
   },
   "file_extension": ".py",
   "mimetype": "text/x-python",
   "name": "python",
   "nbconvert_exporter": "python",
   "pygments_lexer": "ipython3",
   "version": "3.10.10"
  },
  "orig_nbformat": 4
 },
 "nbformat": 4,
 "nbformat_minor": 2
}
