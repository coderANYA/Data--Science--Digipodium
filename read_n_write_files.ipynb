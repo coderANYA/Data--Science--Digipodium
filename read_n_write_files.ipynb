{
 "cells": [
  {
   "cell_type": "code",
   "execution_count": 1,
   "metadata": {},
   "outputs": [
    {
     "name": "stdout",
     "output_type": "stream",
     "text": [
      "from turtle  import *\n",
      "\n",
      "speed('slowest')\n",
      "\n",
      "#to  generate  a decagon\n",
      "\n",
      "distance = 100\n",
      "sides = 10\n",
      "\n",
      "for i in range(sides):\n",
      "    pencolor('red')\n",
      "    fd(distance)\n",
      "    rt(360/sides)\n",
      "    circle(distance/2)\n",
      "    for i in range(sides):           #nested loop\n",
      "        pencolor('blue')\n",
      "        fd(distance/2)\n",
      "        rt(360/sides)\n",
      "        dot(10)\n",
      "        write(i)\n",
      "\n",
      "hideturtle()\n",
      "mainloop()\n"
     ]
    }
   ],
   "source": [
    "# to read a file\n",
    "with open('t1.py') as f:\n",
    "    print(f.read())"
   ]
  },
  {
   "cell_type": "code",
   "execution_count": 2,
   "metadata": {},
   "outputs": [],
   "source": [
    "# to write a file\n",
    "data = \"Journey before destination\"\n",
    "with open('quote.txt','w') as f:\n",
    "    f.write(data)"
   ]
  },
  {
   "cell_type": "code",
   "execution_count": 3,
   "metadata": {},
   "outputs": [],
   "source": [
    "codedemo = ''' #this example\n",
    "def thisfunc():\n",
    "    print(\"Hello World\")\n",
    "''' \n",
    "with open('code_with_coding.py.py','w') as f:\n",
    "    f.write(codedemo)     "
   ]
  },
  {
   "attachments": {},
   "cell_type": "markdown",
   "metadata": {},
   "source": [
    "Points to remember :\n",
    "1 - There are different types of MODES in Python to write files about which   can be studied.\n",
    "\n",
    "2- 'with' is known as Resource Management Keyword.\n",
    "\n",
    "3- Here, 'w' is a Mode."
   ]
  },
  {
   "cell_type": "code",
   "execution_count": null,
   "metadata": {},
   "outputs": [],
   "source": []
  }
 ],
 "metadata": {
  "kernelspec": {
   "display_name": "base",
   "language": "python",
   "name": "python3"
  },
  "language_info": {
   "codemirror_mode": {
    "name": "ipython",
    "version": 3
   },
   "file_extension": ".py",
   "mimetype": "text/x-python",
   "name": "python",
   "nbconvert_exporter": "python",
   "pygments_lexer": "ipython3",
   "version": "3.10.10"
  },
  "orig_nbformat": 4
 },
 "nbformat": 4,
 "nbformat_minor": 2
}
