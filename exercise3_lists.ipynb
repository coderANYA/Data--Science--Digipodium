{
 "cells": [
  {
   "cell_type": "code",
   "execution_count": 3,
   "metadata": {},
   "outputs": [
    {
     "name": "stdout",
     "output_type": "stream",
     "text": [
      "[78, 89, 95, 34, 67]\n"
     ]
    }
   ],
   "source": [
    "#1 Write a program that creates an empty list and then asks the user to input integers to add to the list. Print the final list.\n",
    "integerList = []\n",
    "for i in range(5):\n",
    "    num = int(input(\"Please input elements in the list: \"))\n",
    "    integerList.append(num)\n",
    "print(integerList)"
   ]
  },
  {
   "cell_type": "code",
   "execution_count": 4,
   "metadata": {},
   "outputs": [
    {
     "name": "stdout",
     "output_type": "stream",
     "text": [
      "89 is absent in the list\n"
     ]
    }
   ],
   "source": [
    "#2 Write a program that creates a list of integers and then asks the user to input an integer to check if it exists in the list. Print a message indicating whether the integer is in the list or not.\n",
    "integerList = [56,78,45,33,9,88,21,67]\n",
    "num = int(input('Enter a number: '))\n",
    "if num in integerList:\n",
    "    print(f'{num} is present in the list')\n",
    "else:\n",
    "    print(f'{num} is absent in the list')"
   ]
  },
  {
   "cell_type": "code",
   "execution_count": 7,
   "metadata": {},
   "outputs": [
    {
     "name": "stdout",
     "output_type": "stream",
     "text": [
      "['Black', 'Blue', 'Green', 'Magenta', 'Maroon', 'Pink', 'Red']\n"
     ]
    }
   ],
   "source": [
    "#3 Write a program that creates a list of strings and then sorts the list alphabetically. Print the sorted list.\n",
    "colors = [\"Red\",'Blue','Pink',\"Black\",\"Magenta\",\"Maroon\",\"Green\"]\n",
    "colors.sort()\n",
    "print(colors)"
   ]
  },
  {
   "cell_type": "code",
   "execution_count": 13,
   "metadata": {},
   "outputs": [
    {
     "name": "stdout",
     "output_type": "stream",
     "text": [
      "[21, 32, 50, 54, 70, 77, 89]\n",
      "The Maximum value in the list is : 89\n"
     ]
    }
   ],
   "source": [
    "#4 Write a program that creates a list of integers and then finds the maximum value in the list. Print the maximum value.\n",
    "integerList = [89,54,21,77,50,70,32]\n",
    "integerList.sort()\n",
    "print(integerList)\n",
    "print(f'The Maximum value in the list is :',integerList[-1])\n",
    "\n"
   ]
  },
  {
   "cell_type": "code",
   "execution_count": 14,
   "metadata": {},
   "outputs": [
    {
     "name": "stdout",
     "output_type": "stream",
     "text": [
      "{90, 99, 22}\n"
     ]
    }
   ],
   "source": [
    "#5 Write a program that creates two lists of integers and then finds the common elements between those two lists. Print the common elements.\n",
    "listA = [67,90,88,45,32,22,99]\n",
    "listB = [90,22,91,23,99,69,55]\n",
    "print(set(listA) & set(listB))\n"
   ]
  },
  {
   "cell_type": "code",
   "execution_count": 18,
   "metadata": {},
   "outputs": [
    {
     "name": "stdout",
     "output_type": "stream",
     "text": [
      "The sub_list is: ['Smartphone', 'Laptop']\n",
      "The 2nd element of the sub_list1 is Laptop\n"
     ]
    }
   ],
   "source": [
    "#7 Write a program that creates a nested list and then accesses a specific element in the list. Print the accessed element.\n",
    "Nested_List = [\"Telephone\",\"Pager\",\"Computer\",\"Fax\",[\"Smartphone\",\"Laptop\"]]\n",
    "\n",
    "# accessing the sublist by using the indexing method\n",
    "sub_list = Nested_List[4]\n",
    "\n",
    "# accessing the second element of the sub_list\n",
    "data = Nested_List[4][1]\n",
    "\n",
    "print(\"The sub_list is:\",sub_list)\n",
    "print(\"The 2nd element of the sub_list1 is\",data)\n",
    "\n",
    "    \n",
    "\n"
   ]
  },
  {
   "cell_type": "code",
   "execution_count": 21,
   "metadata": {},
   "outputs": [
    {
     "name": "stdout",
     "output_type": "stream",
     "text": [
      "The List with no duplicate values is : [99, 39, 139, 109, 79, 149, 119, 89]\n"
     ]
    }
   ],
   "source": [
    "#8 Write a program that creates a list of integers and then removes all duplicates from the list. Print the final list.\n",
    "MyList = [89,99,109,119,139,139,149,99,39,79,79]\n",
    "MyList2 = list(set(MyList))      #MyList converted to set & set again converted to list.The new list is stored in a variable\n",
    "print(f'The List with no duplicate values is : {MyList2}')"
   ]
  },
  {
   "cell_type": "code",
   "execution_count": null,
   "metadata": {},
   "outputs": [],
   "source": [
    "#9 Write a program that creates a list of strings and then finds the longest string in the list. Print the longest string.\n",
    "countries = [\"India\",\"USA\",\"New Zealand\",\"Finland\",\"Russia\",\"Egypt\",\"Greece\"]\n"
   ]
  }
 ],
 "metadata": {
  "kernelspec": {
   "display_name": "base",
   "language": "python",
   "name": "python3"
  },
  "language_info": {
   "codemirror_mode": {
    "name": "ipython",
    "version": 3
   },
   "file_extension": ".py",
   "mimetype": "text/x-python",
   "name": "python",
   "nbconvert_exporter": "python",
   "pygments_lexer": "ipython3",
   "version": "3.10.10"
  },
  "orig_nbformat": 4
 },
 "nbformat": 4,
 "nbformat_minor": 2
}
