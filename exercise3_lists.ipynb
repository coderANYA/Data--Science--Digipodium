{
 "cells": [
  {
   "cell_type": "code",
   "execution_count": 3,
   "metadata": {},
   "outputs": [
    {
     "name": "stdout",
     "output_type": "stream",
     "text": [
      "[78, 89, 95, 34, 67]\n"
     ]
    }
   ],
   "source": [
    "#1 Write a program that creates an empty list and then asks the user to input integers to add to the list. Print the final list.\n",
    "integerList = []\n",
    "for i in range(5):\n",
    "    num = int(input(\"Please input elements in the list: \"))\n",
    "    integerList.append(num)\n",
    "print(integerList)"
   ]
  },
  {
   "cell_type": "code",
   "execution_count": 4,
   "metadata": {},
   "outputs": [
    {
     "name": "stdout",
     "output_type": "stream",
     "text": [
      "89 is absent in the list\n"
     ]
    }
   ],
   "source": [
    "#2 Write a program that creates a list of integers and then asks the user to input an integer to check if it exists in the list. Print a message indicating whether the integer is in the list or not.\n",
    "integerList = [56,78,45,33,9,88,21,67]\n",
    "num = int(input('Enter a number: '))\n",
    "if num in integerList:\n",
    "    print(f'{num} is present in the list')\n",
    "else:\n",
    "    print(f'{num} is absent in the list')"
   ]
  },
  {
   "cell_type": "code",
   "execution_count": 7,
   "metadata": {},
   "outputs": [
    {
     "name": "stdout",
     "output_type": "stream",
     "text": [
      "['Black', 'Blue', 'Green', 'Magenta', 'Maroon', 'Pink', 'Red']\n"
     ]
    }
   ],
   "source": [
    "#3 Write a program that creates a list of strings and then sorts the list alphabetically. Print the sorted list.\n",
    "colors = [\"Red\",'Blue','Pink',\"Black\",\"Magenta\",\"Maroon\",\"Green\"]\n",
    "colors.sort()\n",
    "print(colors)"
   ]
  },
  {
   "cell_type": "code",
   "execution_count": 13,
   "metadata": {},
   "outputs": [
    {
     "name": "stdout",
     "output_type": "stream",
     "text": [
      "[21, 32, 50, 54, 70, 77, 89]\n",
      "The Maximum value in the list is : 89\n"
     ]
    }
   ],
   "source": [
    "#4 Write a program that creates a list of integers and then finds the maximum value in the list. Print the maximum value.\n",
    "integerList = [89,54,21,77,50,70,32]\n",
    "integerList.sort()\n",
    "print(integerList)\n",
    "print(f'The Maximum value in the list is :',integerList[-1])\n",
    "\n"
   ]
  },
  {
   "cell_type": "code",
   "execution_count": 14,
   "metadata": {},
   "outputs": [
    {
     "name": "stdout",
     "output_type": "stream",
     "text": [
      "{90, 99, 22}\n"
     ]
    }
   ],
   "source": [
    "#5 Write a program that creates two lists of integers and then finds the common elements between those two lists. Print the common elements.\n",
    "listA = [67,90,88,45,32,22,99]\n",
    "listB = [90,22,91,23,99,69,55]\n",
    "print(set(listA) & set(listB))\n"
   ]
  },
  {
   "cell_type": "code",
   "execution_count": 18,
   "metadata": {},
   "outputs": [
    {
     "name": "stdout",
     "output_type": "stream",
     "text": [
      "The sub_list is: ['Smartphone', 'Laptop']\n",
      "The 2nd element of the sub_list1 is Laptop\n"
     ]
    }
   ],
   "source": [
    "#7 Write a program that creates a nested list and then accesses a specific element in the list. Print the accessed element.\n",
    "Nested_List = [\"Telephone\",\"Pager\",\"Computer\",\"Fax\",[\"Smartphone\",\"Laptop\"]]\n",
    "\n",
    "# accessing the sublist by using the indexing method\n",
    "sub_list = Nested_List[4]\n",
    "\n",
    "# accessing the second element of the sub_list\n",
    "data = Nested_List[4][1]\n",
    "\n",
    "print(\"The sub_list is:\",sub_list)\n",
    "print(\"The 2nd element of the sub_list1 is\",data)\n",
    "\n",
    "    \n",
    "\n"
   ]
  },
  {
   "cell_type": "code",
   "execution_count": 21,
   "metadata": {},
   "outputs": [
    {
     "name": "stdout",
     "output_type": "stream",
     "text": [
      "The List with no duplicate values is : [99, 39, 139, 109, 79, 149, 119, 89]\n"
     ]
    }
   ],
   "source": [
    "#8 Write a program that creates a list of integers and then removes all duplicates from the list. Print the final list.\n",
    "MyList = [89,99,109,119,139,139,149,99,39,79,79]\n",
    "MyList2 = list(set(MyList))      #MyList converted to set & set again converted to list.The new list is stored in a variable\n",
    "print(f'The List with no duplicate values is : {MyList2}')"
   ]
  },
  {
   "cell_type": "code",
   "execution_count": 1,
   "metadata": {},
   "outputs": [
    {
     "name": "stdout",
     "output_type": "stream",
     "text": [
      "The longest string is: New Zealand\n"
     ]
    }
   ],
   "source": [
    "#9 Write a program that creates a list of strings and then finds the longest string in the list. Print the longest string.\n",
    "countries = [\"India\",\"USA\",\"New Zealand\",\"Finland\",\"Russia\",\"Egypt\",\"Greece\"]\n",
    "check = max(countries, key = len)\n",
    "print(f'The longest string is: {check}')\n"
   ]
  },
  {
   "cell_type": "code",
   "execution_count": 2,
   "metadata": {},
   "outputs": [
    {
     "name": "stdout",
     "output_type": "stream",
     "text": [
      "The sum of all the even numbers is 232\n"
     ]
    }
   ],
   "source": [
    "#10 Write a program that creates a list of integers and then finds the sum of all the even numbers in the list. Print the sum.\n",
    "integerList = [78,34,21,30,67,90,45,13]\n",
    "sum = 0\n",
    "for num in integerList:\n",
    "    if num % 2 == 0:\n",
    "        sum += num\n",
    "print(f'The sum of all the even numbers is {sum}')        \n"
   ]
  },
  {
   "cell_type": "code",
   "execution_count": 27,
   "metadata": {},
   "outputs": [
    {
     "name": "stdout",
     "output_type": "stream",
     "text": [
      "Enter the size of the list: \n",
      "Enter 5 elements\n",
      "1 \n",
      "11 \n",
      "21 \n",
      "31 \n",
      "41 \n",
      "Enter the index number which you want to remove\n",
      "The Final List is: \n",
      "1 \n",
      "11 \n",
      "21 \n",
      "41 \n"
     ]
    }
   ],
   "source": [
    "#11 Write a program that creates a list of integers and then asks the user to input a position to remove an element from the list. Print the final list.\n",
    "print('Enter the size of the list: ')\n",
    "size = int(input())\n",
    "\n",
    "arr = []\n",
    "print('Enter',int(size),'elements')\n",
    "for i in range(size):\n",
    "    arr.append(input())\n",
    "    print(arr[i] + \" \")    \n",
    "\n",
    "print(\"Enter the index number which you want to remove\")\n",
    "index = int(input())\n",
    "\n",
    "if index < size:\n",
    "    arr.pop(index)\n",
    "    print('The Final List is: ')\n",
    "    for i in range(size - 1):\n",
    "        print(arr[i] + \" \")\n",
    "else:\n",
    "    print(\"Invalid index number!\")\n",
    "\n",
    "\n",
    "\n",
    "\n",
    "\n",
    "\n",
    "\n"
   ]
  },
  {
   "cell_type": "code",
   "execution_count": 31,
   "metadata": {},
   "outputs": [
    {
     "name": "stdout",
     "output_type": "stream",
     "text": [
      "Ananya Mihir Shagun Arpita Farhan Akrama Nitisha\n"
     ]
    }
   ],
   "source": [
    "#12 Write a program that creates a list of strings and then concatenates all the strings into a single string. Print the final string.\n",
    "friends = [\"Ananya\",\"Mihir\",\"Shagun\",\"Arpita\",\"Farhan\",\"Akrama\",\"Nitisha\"]\n",
    "print(\" \".join(friends))"
   ]
  },
  {
   "cell_type": "code",
   "execution_count": 28,
   "metadata": {},
   "outputs": [
    {
     "name": "stdout",
     "output_type": "stream",
     "text": [
      "The median of integerList is 34\n"
     ]
    }
   ],
   "source": [
    "#13 Write a program that creates a list of integers and then finds the median value of the list. Print the median.\n",
    "import statistics\n",
    "integerList = [34,33,87,90,12,45,65,32,18]\n",
    "result = statistics.median(integerList)\n",
    "print(f'The median of integerList is {result}')\n"
   ]
  },
  {
   "cell_type": "code",
   "execution_count": 34,
   "metadata": {},
   "outputs": [
    {
     "name": "stdout",
     "output_type": "stream",
     "text": [
      "['Pink', 'Black', 'Brown', 'Orange', 'Violet']\n"
     ]
    }
   ],
   "source": [
    "#14 Write a program that creates a list of strings and then reverses the order of the strings in the list. Print the reversed list.\n",
    "colors = [\"Violet\",\"Orange\",\"Brown\",\"Black\",\"Pink\"]\n",
    "colors.reverse()\n",
    "print(colors)\n"
   ]
  },
  {
   "cell_type": "code",
   "execution_count": 37,
   "metadata": {},
   "outputs": [
    {
     "name": "stdout",
     "output_type": "stream",
     "text": [
      "The average of integerList is : 48\n"
     ]
    }
   ],
   "source": [
    "#15 Write a program that creates a list of integers and then calculates the average of all the numbers in the list. Print the average.\n",
    "integerList = [89,77,54,21,90,23,66,11,8]\n",
    "sum = 0\n",
    "for num in integerList:\n",
    "    sum += num\n",
    "average = sum // 9\n",
    "print(f'The average of integerList is : {average}')\n"
   ]
  },
  {
   "cell_type": "code",
   "execution_count": 41,
   "metadata": {},
   "outputs": [
    {
     "name": "stdout",
     "output_type": "stream",
     "text": [
      "The index is: 4\n"
     ]
    }
   ],
   "source": [
    "#16 Write a program that creates a list of integers and then finds the index of a specific element in the list. Print the index.\n",
    "integerList = [89,77,54,21,90,23,66,11,8]\n",
    "pos = integerList.index(90)\n",
    "print(f'The index is: {pos}')\n"
   ]
  },
  {
   "cell_type": "code",
   "execution_count": 44,
   "metadata": {},
   "outputs": [
    {
     "name": "stdout",
     "output_type": "stream",
     "text": [
      "The final list is ['Ananya', 'loves', 'TMKOC']\n"
     ]
    }
   ],
   "source": [
    "#17 Write a program that creates a list of strings and then removes all whitespace characters from each string in the list. Print the final list.\n",
    "str = [\"Ananya\",\" \",\" \",\"   \", \"loves\",\"    \",\" \",\"TMKOC\",\" \"]\n",
    "res = [element for element in str if element.strip()]\n",
    "print(f'The final list is {res}')"
   ]
  },
  {
   "cell_type": "code",
   "execution_count": 50,
   "metadata": {},
   "outputs": [
    {
     "name": "stdout",
     "output_type": "stream",
     "text": [
      "The descending order is : [90, 89, 77, 66, 54, 23, 21, 11, 8]\n"
     ]
    }
   ],
   "source": [
    "#18 Write a program that creates a list of integers and then sorts the list in descending order. Print the sorted list.\n",
    "integerList = [89,77,54,21,90,23,66,11,8]\n",
    "integerList.sort()\n",
    "integerList.reverse()\n",
    "print(f'The descending order is :',integerList)\n"
   ]
  },
  {
   "cell_type": "code",
   "execution_count": 52,
   "metadata": {},
   "outputs": [
    {
     "name": "stdout",
     "output_type": "stream",
     "text": [
      "The final list is : [23, 89, 77, 54, 21, 90, 23, 66, 11, 8]\n"
     ]
    }
   ],
   "source": [
    "#19 Write a program that creates a list of integers and then asks the user to input a value to add to the list. Add the value to the beginning of the list and print the final list.\n",
    "integerList = [89,77,54,21,90,23,66,11,8]\n",
    "num = int(input(\"Enter a desired number: \"))\n",
    "integerList.insert(0,num)\n",
    "print(\"The final list is :\",integerList)"
   ]
  },
  {
   "cell_type": "code",
   "execution_count": 55,
   "metadata": {},
   "outputs": [
    {
     "name": "stdout",
     "output_type": "stream",
     "text": [
      "The final list is : [89, 77, 54, 21, 90, 23, 66, 11, 8, 45, 33, 13, 99, 32, 43, 7, 20, 34]\n"
     ]
    }
   ],
   "source": [
    "#20 Write a program that creates two lists of integers and then concatenates those two lists into a single list. Print the final list.\n",
    "integerList1 = [89,77,54,21,90,23,66,11,8]\n",
    "integerList2 = [45,33,13,99,32,43,7,20,34]\n",
    "integerList1.extend(integerList2)\n",
    "print('The final list is :',integerList1)\n"
   ]
  },
  {
   "cell_type": "code",
   "execution_count": null,
   "metadata": {},
   "outputs": [],
   "source": []
  },
  {
   "cell_type": "code",
   "execution_count": null,
   "metadata": {},
   "outputs": [],
   "source": []
  }
 ],
 "metadata": {
  "kernelspec": {
   "display_name": "base",
   "language": "python",
   "name": "python3"
  },
  "language_info": {
   "codemirror_mode": {
    "name": "ipython",
    "version": 3
   },
   "file_extension": ".py",
   "mimetype": "text/x-python",
   "name": "python",
   "nbconvert_exporter": "python",
   "pygments_lexer": "ipython3",
   "version": "3.10.10"
  },
  "orig_nbformat": 4
 },
 "nbformat": 4,
 "nbformat_minor": 2
}
